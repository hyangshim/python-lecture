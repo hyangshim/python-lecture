{
 "cells": [
  {
   "attachments": {},
   "cell_type": "markdown",
   "metadata": {},
   "source": [
    "### 7-1 표준 모듈"
   ]
  },
  {
   "attachments": {},
   "cell_type": "markdown",
   "metadata": {},
   "source": [
    "- math"
   ]
  },
  {
   "cell_type": "code",
   "execution_count": 2,
   "metadata": {},
   "outputs": [
    {
     "data": {
      "text/plain": [
       "3.141592653589793"
      ]
     },
     "execution_count": 2,
     "metadata": {},
     "output_type": "execute_result"
    }
   ],
   "source": [
    "import math\n",
    "math.pi"
   ]
  },
  {
   "cell_type": "code",
   "execution_count": 5,
   "metadata": {},
   "outputs": [
    {
     "data": {
      "text/plain": [
       "(1.0, 6.123233995736766e-17)"
      ]
     },
     "execution_count": 5,
     "metadata": {},
     "output_type": "execute_result"
    }
   ],
   "source": [
    "math.sin(math.pi/2),math.cos(math.pi/2)"
   ]
  },
  {
   "cell_type": "code",
   "execution_count": 8,
   "metadata": {},
   "outputs": [
    {
     "data": {
      "text/plain": [
       "(1.0, 6.123233995736766e-17)"
      ]
     },
     "execution_count": 8,
     "metadata": {},
     "output_type": "execute_result"
    }
   ],
   "source": [
    "from math import sin,cos\n",
    "sin(math.pi/2),cos(math.pi/2)"
   ]
  },
  {
   "cell_type": "code",
   "execution_count": 9,
   "metadata": {},
   "outputs": [
    {
     "data": {
      "text/plain": [
       "(1.0, 6.123233995736766e-17)"
      ]
     },
     "execution_count": 9,
     "metadata": {},
     "output_type": "execute_result"
    }
   ],
   "source": [
    "import math as m     #as:alias 약칭\n",
    "m.sin(m.pi/2),m.cos(m.pi/2)"
   ]
  },
  {
   "attachments": {},
   "cell_type": "markdown",
   "metadata": {},
   "source": [
    "- random"
   ]
  },
  {
   "cell_type": "code",
   "execution_count": 11,
   "metadata": {},
   "outputs": [
    {
     "data": {
      "text/plain": [
       "(0.007875453358129225, 5)"
      ]
     },
     "execution_count": 11,
     "metadata": {},
     "output_type": "execute_result"
    }
   ],
   "source": [
    "import random as rb\n",
    "rb.random(),rb.randint(1,6)"
   ]
  },
  {
   "cell_type": "code",
   "execution_count": 12,
   "metadata": {},
   "outputs": [
    {
     "data": {
      "text/plain": [
       "(13.291400520967667, 3)"
      ]
     },
     "execution_count": 12,
     "metadata": {},
     "output_type": "execute_result"
    }
   ],
   "source": [
    "rb.uniform(10,20),rb.randrange(10)"
   ]
  },
  {
   "cell_type": "code",
   "execution_count": 13,
   "metadata": {},
   "outputs": [
    {
     "data": {
      "text/plain": [
       "(4, [5, 2, 4])"
      ]
     },
     "execution_count": 13,
     "metadata": {},
     "output_type": "execute_result"
    }
   ],
   "source": [
    "a =[1,2,3,4,5]\n",
    "rb.choice(a),rb.sample(a,3)\n",
    "# choice 내부에 있는 요소를 랜덤\n",
    "# sample 리스트 요소로 3개 "
   ]
  },
  {
   "cell_type": "code",
   "execution_count": 15,
   "metadata": {},
   "outputs": [
    {
     "data": {
      "text/plain": [
       "[5, 3, 2, 4, 1]"
      ]
     },
     "execution_count": 15,
     "metadata": {},
     "output_type": "execute_result"
    }
   ],
   "source": [
    "rb.shuffle(a)\n",
    "a"
   ]
  },
  {
   "attachments": {},
   "cell_type": "markdown",
   "metadata": {},
   "source": [
    "- os 모듈\n",
    "    - 새로운 폴더를 만들거나 폴더 내부의 파일 목록을 보는 OS모듈 활용"
   ]
  },
  {
   "cell_type": "code",
   "execution_count": 16,
   "metadata": {},
   "outputs": [
    {
     "data": {
      "text/plain": [
       "('nt', 'd:\\\\workspace\\\\02.python\\\\07.모듈')"
      ]
     },
     "execution_count": 16,
     "metadata": {},
     "output_type": "execute_result"
    }
   ],
   "source": [
    "import os\n",
    "os.name,os.getcwd(),"
   ]
  },
  {
   "cell_type": "code",
   "execution_count": 18,
   "metadata": {},
   "outputs": [
    {
     "data": {
      "text/plain": [
       "['01.sys.py', '01.표준모듈.ipynb']"
      ]
     },
     "execution_count": 18,
     "metadata": {},
     "output_type": "execute_result"
    }
   ],
   "source": [
    "# 현재 폴더의 요소\n",
    "os.listdir()"
   ]
  },
  {
   "cell_type": "code",
   "execution_count": 19,
   "metadata": {},
   "outputs": [
    {
     "data": {
      "text/plain": [
       "['01.sys.py', '01.표준모듈.ipynb', 'test']"
      ]
     },
     "execution_count": 19,
     "metadata": {},
     "output_type": "execute_result"
    }
   ],
   "source": [
    "# 폴더를 만들기\n",
    "os.mkdir('test')  # 동일한 이름으로 중복해서 만들수 없음\n",
    "os.listdir()"
   ]
  },
  {
   "cell_type": "code",
   "execution_count": 20,
   "metadata": {},
   "outputs": [
    {
     "data": {
      "text/plain": [
       "['01.sys.py', '01.표준모듈.ipynb']"
      ]
     },
     "execution_count": 20,
     "metadata": {},
     "output_type": "execute_result"
    }
   ],
   "source": [
    "# 폴더 제거(폴더가 비어있을때만 제거가능)\n",
    "os.rmdir('test')\n",
    "os.listdir()"
   ]
  },
  {
   "cell_type": "code",
   "execution_count": 21,
   "metadata": {},
   "outputs": [],
   "source": [
    "#디렉토리가 없으면 새로 만들고 / 있으면 만들지 마라\n",
    "dir_name = 'test'\n",
    "if not os.path.exists(dir_name):\n",
    "    os.mkdir(dir_name)"
   ]
  },
  {
   "cell_type": "code",
   "execution_count": 23,
   "metadata": {},
   "outputs": [
    {
     "data": {
      "text/plain": [
       "['a.txt']"
      ]
     },
     "execution_count": 23,
     "metadata": {},
     "output_type": "execute_result"
    }
   ],
   "source": [
    "os.listdir(dir_name)"
   ]
  },
  {
   "cell_type": "code",
   "execution_count": 24,
   "metadata": {},
   "outputs": [
    {
     "data": {
      "text/plain": [
       "[]"
      ]
     },
     "execution_count": 24,
     "metadata": {},
     "output_type": "execute_result"
    }
   ],
   "source": [
    "#파일 제거\n",
    "os.remove(dir_name + '/' + 'a.txt')\n",
    "os.listdir(dir_name)"
   ]
  },
  {
   "cell_type": "code",
   "execution_count": 25,
   "metadata": {},
   "outputs": [
    {
     "data": {
      "text/plain": [
       "['01.sys.py', '01.표준모듈.ipynb']"
      ]
     },
     "execution_count": 25,
     "metadata": {},
     "output_type": "execute_result"
    }
   ],
   "source": [
    "os.rmdir(dir_name)\n",
    "os.listdir()"
   ]
  },
  {
   "cell_type": "code",
   "execution_count": 30,
   "metadata": {},
   "outputs": [
    {
     "name": "stdout",
     "output_type": "stream",
     "text": [
      "c:\\Users\\YONSAI\\anaconda3\n",
      "C:\\Users\\YONSAI\\anaconda3\n",
      "C:\\Users\\YONSAI\\anaconda3\\Library\\mingw-w64\\bin\n",
      "C:\\Users\\YONSAI\\anaconda3\\Library\\usr\\bin\n",
      "C:\\Users\\YONSAI\\anaconda3\\Library\\bin\n",
      "C:\\Users\\YONSAI\\anaconda3\\Scripts\n",
      "C:\\Users\\YONSAI\\anaconda3\\bin\n",
      "C:\\Users\\YONSAI\\anaconda3\\condabin\n",
      "C:\\Program Files (x86)\\Common Files\\Intel\\Shared Libraries\\redist\\intel64\\compiler\n",
      "C:\\Windows\\system32\n",
      "C:\\Windows\n",
      "C:\\Windows\\System32\\Wbem\n",
      "C:\\Windows\\System32\\WindowsPowerShell\\v1.0\n",
      "C:\\Windows\\System32\\OpenSSH\n",
      "C:\\Program Files (x86)\\Microsoft SQL Server\\110\\Tools\\Binn\n",
      "C:\\Program Files\\Microsoft SQL Server\\110\\Tools\\Binn\n",
      "C:\\Program Files\\Microsoft SQL Server\\110\\DTS\\Binn\n",
      "C:\\Program Files (x86)\\Microsoft SQL Server\\100\\Tools\\Binn\n",
      "C:\\Program Files\\Microsoft SQL Server\\100\\Tools\\Binn\n",
      "C:\\Program Files\\Microsoft SQL Server\\100\\DTS\\Binn\n",
      "C:\\Program Files\\Git\\cmd\n",
      "C:\\Program Files\\nodejs\n",
      "C:\\Users\\YONSAI\\anaconda3\n",
      "C:\\Users\\YONSAI\\anaconda3\\Library\\mingw-w64\\bin\n",
      "C:\\Users\\YONSAI\\anaconda3\\Library\\usr\\bin\n",
      "C:\\Users\\YONSAI\\anaconda3\\Library\\bin\n",
      "C:\\Users\\YONSAI\\anaconda3\\Scripts\n",
      "C:\\Users\\YONSAI\\AppData\\Local\\Microsoft\\WindowsApps\n",
      "C:\\Users\\YONSAI\\AppData\\Local\\Programs\\Microsoft VS Code\\bin\n",
      "C:\\Users\\YONSAI\\AppData\\Roaming\\npm\n"
     ]
    }
   ],
   "source": [
    "paths=os.environ['PATH']\n",
    "for path in paths.split(';'):\n",
    "    print(path)"
   ]
  },
  {
   "attachments": {},
   "cell_type": "markdown",
   "metadata": {},
   "source": [
    "- datetime 모듈"
   ]
  },
  {
   "cell_type": "code",
   "execution_count": 33,
   "metadata": {},
   "outputs": [
    {
     "name": "stdout",
     "output_type": "stream",
     "text": [
      "2023-04-06 10:50:24\n"
     ]
    }
   ],
   "source": [
    "import datetime as dt\n",
    "now=dt.datetime.now()\n",
    "print(f'{now.year}-{now.month:02d}-{now.day:02d} {now.hour:02d}:{now.minute:02d}:{now.second:02d}')"
   ]
  },
  {
   "cell_type": "code",
   "execution_count": 34,
   "metadata": {},
   "outputs": [
    {
     "name": "stdout",
     "output_type": "stream",
     "text": [
      "2023-04-06 11:02:24\n"
     ]
    }
   ],
   "source": [
    "now = dt.datetime.now()\n",
    "print(now.strftime('%Y-%m-%d %H:%M:%S'))"
   ]
  },
  {
   "cell_type": "code",
   "execution_count": 35,
   "metadata": {},
   "outputs": [
    {
     "data": {
      "text/plain": [
       "3"
      ]
     },
     "execution_count": 35,
     "metadata": {},
     "output_type": "execute_result"
    }
   ],
   "source": [
    "names = '월 화 수 목 금 토 일'.split()\n",
    "now.weekday()"
   ]
  },
  {
   "cell_type": "code",
   "execution_count": 36,
   "metadata": {},
   "outputs": [
    {
     "name": "stdout",
     "output_type": "stream",
     "text": [
      "2023-04-06(목) 11:09:07\n"
     ]
    }
   ],
   "source": [
    "now = dt.datetime.now()\n",
    "print(now.strftime('%Y-%m-%d')+f'({names[now.weekday()]}) ' + now.strftime('%H:%M:%S'))"
   ]
  },
  {
   "cell_type": "code",
   "execution_count": 37,
   "metadata": {},
   "outputs": [
    {
     "name": "stdout",
     "output_type": "stream",
     "text": [
      "2023-07-15(목) 11:09:07\n"
     ]
    }
   ],
   "source": [
    "after=now+dt.timedelta(days=100)\n",
    "print(after.strftime('%Y-%m-%d')+f'({names[now.weekday()]}) ' + now.strftime('%H:%M:%S'))"
   ]
  },
  {
   "cell_type": "code",
   "execution_count": 39,
   "metadata": {},
   "outputs": [
    {
     "name": "stdout",
     "output_type": "stream",
     "text": [
      "2023-05-01(목) 11:09:07\n"
     ]
    }
   ],
   "source": [
    "after=now+dt.timedelta(weeks=3, days=4,hours=10,minutes=20,seconds=10)\n",
    "print(after.strftime('%Y-%m-%d')+f'({names[now.weekday()]}) ' + now.strftime('%H:%M:%S'))"
   ]
  },
  {
   "cell_type": "code",
   "execution_count": 40,
   "metadata": {},
   "outputs": [
    {
     "name": "stdout",
     "output_type": "stream",
     "text": [
      "지금부터 5초간 정지합니다.\n",
      "5가 경과했습니다.\n"
     ]
    }
   ],
   "source": [
    "import time\n",
    "\n",
    "print('지금부터 5초간 정지합니다.')\n",
    "time.sleep(5)\n",
    "\n",
    "print('5가 경과했습니다.')"
   ]
  },
  {
   "attachments": {},
   "cell_type": "markdown",
   "metadata": {},
   "source": [
    ". urllib 모듈"
   ]
  },
  {
   "cell_type": "code",
   "execution_count": 41,
   "metadata": {},
   "outputs": [],
   "source": [
    "from urllib import request\n",
    "\n",
    "target = request.urlopen('https://www.naver.com/')\n",
    "output = target.read()"
   ]
  },
  {
   "cell_type": "code",
   "execution_count": 43,
   "metadata": {},
   "outputs": [
    {
     "name": "stdout",
     "output_type": "stream",
     "text": [
      "b'\\n<!doctype html>                          <html lang=\"ko\" data-dark=\"false\"> <head> <meta charset=\"utf-8\"> <title>NAVER</title> <meta http-equiv=\"X-UA-Compatible\" content=\"IE=edge\"> <meta name=\"viewport\" content=\"width=1190\"> <meta name=\"apple-mobile-web-app-title\" content=\"NAVER\"/> <meta name=\"robots\" content=\"index,nofollow\"/> <meta name=\"description\" content=\"\\xeb\\x84\\xa4\\xec\\x9d\\xb4\\xeb\\xb2\\x84 \\xeb\\xa9\\x94\\xec\\x9d\\xb8\\xec\\x97\\x90\\xec\\x84\\x9c \\xeb\\x8b\\xa4\\xec\\x96\\x91\\xed\\x95\\x9c \\xec\\xa0\\x95\\xeb\\xb3\\xb4\\xec\\x99\\x80 \\xec\\x9c\\xa0\\xec\\x9a\\xa9\\xed\\x95\\x9c \\xec\\xbb\\xa8\\xed\\x85\\x90\\xec\\xb8\\xa0\\xeb\\xa5\\xbc \\xeb\\xa7\\x8c\\xeb\\x82\\x98 \\xeb\\xb3\\xb4\\xec\\x84\\xb8\\xec\\x9a\\x94\"/> <meta property=\"og:title\" content=\"\\xeb\\x84\\xa4\\xec\\x9d\\xb4\\xeb\\xb2\\x84\"> <meta property=\"og:url\" content=\"https://www.naver.com/\"> <meta property=\"og:image\" content=\"https://s.pstatic.net/static/www/mobile/edit/2016/0705/mobile_212852414260.png\"> <meta property=\"og:description\" content=\"\\xeb\\x84\\xa4\\xec\\x9d\\xb4\\xeb\\xb2\\x84 \\xeb\\xa9\\x94\\xec\\x9d\\xb8\\xec\\x97\\x90\\xec\\x84\\x9c \\xeb\\x8b\\xa4\\xec\\x96\\x91\\xed\\x95\\x9c \\xec\\xa0\\x95\\xeb\\xb3\\xb4\\xec\\x99\\x80 \\xec\\x9c\\xa0\\xec\\x9a\\xa9\\xed\\x95\\x9c \\xec\\xbb\\xa8\\xed\\x85\\x90\\xec\\xb8\\xa0\\xeb\\xa5\\xbc \\xeb\\xa7\\x8c\\xeb\\x82\\x98 \\xeb\\xb3\\xb4\\xec\\x84\\xb8\\xec\\x9a\\x94\"/> <meta name=\"twitter:card\" content=\"summary\"> <meta name=\"twitter:title\" content=\"\"> <meta name=\"twitter:url\" content=\"https://www.naver.com/\"> <meta name=\"twitter:image\" content=\"https://s.pstatic.net/'\n"
     ]
    }
   ],
   "source": [
    "print(output[:1000])"
   ]
  },
  {
   "cell_type": "code",
   "execution_count": 45,
   "metadata": {},
   "outputs": [
    {
     "name": "stdout",
     "output_type": "stream",
     "text": [
      "\n",
      "<!doctype html>\n",
      "<html lang=\"ko\">\n",
      "\t<head>\n",
      "\t\t<title id=\"browserTitleArea\">네이버 뉴스</title>\n",
      "\t\t\n",
      "\n",
      "\n",
      "<script>\n",
      "\tfunction isMobileDevice() {\n",
      "\t\treturn /^.*(iPhone|iPod|iPad|Android).*/.test(navigator.userAgent);\n",
      "\t}\n",
      "</script>\n",
      "<script>\n",
      "\t(function () {\n",
      "\t\ttry {\n",
      "\t\t\tif (isMobileDevice() && isAbleApplyPrefersColorScheme()) {\n",
      "\t\t\t\t\n",
      "\t\t\t\tdocument.querySelector(\"html\").classList.add(\"DARK_THEME\");\n",
      "\t\t\t}\n",
      "\t\t} catch(e) {}\n",
      "\n",
      "\t\tfunction isAbleApplyPrefersColorScheme() {\n",
      "\t\t\t\n",
      "\t\t\tif (window.matchMedia(\"(prefers-color-scheme)\").matches === false) {\n",
      "\t\t\t\treturn false;\n",
      "\t\t\t}\n",
      "\n",
      "\t\t\tvar userAgent = navigator.userAgent;\n",
      "\n",
      "\t\t\tif (userAgent.indexOf(\"NAVER\") > -1) {\n",
      "\t\t\t\t\n",
      "\t\t\t\tif (/.*NAVER\\([a-zA-Z]*;\\s[a-zA-Z]*;\\s([0-9]*);/.test(userAgent)) {\n",
      "\t\t\t\t\treturn Number(RegExp.$1) >= 1000;\n",
      "\t\t\t\t}\n",
      "\t\t\t} else {\n",
      "\t\t\t\t\n",
      "\t\t\t\treturn document.cookie.indexOf(\"NSCS=1\") > -1;\n",
      "\t\t\t}\n",
      "\n",
      "\t\t\treturn false;\n",
      "\t\t}\n",
      "\t})();\n",
      "</script>\n",
      "\n",
      "\t\t<script>\n",
      "\t\tvar g_ssc = 'news.v3_media' || null;\n",
      "\t\t</script>\n",
      "\t\t<meta charset=\"utf-8\">\n",
      "<meta name=\"viewport\" content=\"width=device-width,\n"
     ]
    }
   ],
   "source": [
    "import requests\n",
    "req = requests.get('https://news.naver.com/')\n",
    "print(req.text[:1000])"
   ]
  },
  {
   "cell_type": "code",
   "execution_count": null,
   "metadata": {},
   "outputs": [],
   "source": []
  }
 ],
 "metadata": {
  "kernelspec": {
   "display_name": "base",
   "language": "python",
   "name": "python3"
  },
  "language_info": {
   "codemirror_mode": {
    "name": "ipython",
    "version": 3
   },
   "file_extension": ".py",
   "mimetype": "text/x-python",
   "name": "python",
   "nbconvert_exporter": "python",
   "pygments_lexer": "ipython3",
   "version": "3.10.9"
  },
  "orig_nbformat": 4
 },
 "nbformat": 4,
 "nbformat_minor": 2
}
