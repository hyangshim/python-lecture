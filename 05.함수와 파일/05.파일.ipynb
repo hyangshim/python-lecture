{
 "cells": [
  {
   "attachments": {},
   "cell_type": "markdown",
   "metadata": {},
   "source": [
    "#### 5-3 파일(File)"
   ]
  },
  {
   "attachments": {},
   "cell_type": "markdown",
   "metadata": {},
   "source": [
    "- 파일에 텍스트쓰기\n",
    "    - W  write(새로쓰기 모드,기존에 쓰던데이터 없어짐)\n",
    "    - a append 모드(뒤에 이어서 쓰기 모드)\n",
    "    - r read 모드(읽기 모드)"
   ]
  },
  {
   "cell_type": "code",
   "execution_count": 3,
   "metadata": {},
   "outputs": [],
   "source": [
    "file =open('data/basic.txt','w')          #data/basic.tex 를 쓰기 모드로 open\n",
    "file.write('hello python programming...!!!')\n",
    "file.close()"
   ]
  },
  {
   "attachments": {},
   "cell_type": "markdown",
   "metadata": {},
   "source": [
    "- 파이썬 스타일 : with 구분"
   ]
  },
  {
   "cell_type": "code",
   "execution_count": 11,
   "metadata": {},
   "outputs": [],
   "source": [
    "# with 구분을 벗어나면 파일이 자동적으로 close됨\n",
    "# 'w' 모드로 기존 데이터는 없어짐\n",
    "# write 할 경우 new line을 입력하지 않았으므로 한줄의 데이터가 됨\n",
    "with open('data/basic.txt','w') as file:\n",
    "    file.write('hello world!!!\\n')\n",
    "    file.write('hello  python')\n"
   ]
  },
  {
   "attachments": {},
   "cell_type": "markdown",
   "metadata": {},
   "source": [
    "- 텍스트 읽기"
   ]
  },
  {
   "cell_type": "code",
   "execution_count": 12,
   "metadata": {},
   "outputs": [
    {
     "name": "stdout",
     "output_type": "stream",
     "text": [
      "hello world!!!\n",
      "hello  python\n"
     ]
    }
   ],
   "source": [
    "with open ('data/basic.txt','r') as file:\n",
    "    content =file.read()           # 파일 안에 있는 텍스트를 모드 읽음\n",
    "print(content)"
   ]
  },
  {
   "cell_type": "code",
   "execution_count": 13,
   "metadata": {},
   "outputs": [
    {
     "name": "stdout",
     "output_type": "stream",
     "text": [
      "hello world!!!\n",
      "hello\n"
     ]
    }
   ],
   "source": [
    "with open ('data/basic.txt','r') as file:\n",
    "    content =file.read(20)            # 파일 안에 있는 텍스트를 20글자 읽음\n",
    "print(content)"
   ]
  },
  {
   "attachments": {},
   "cell_type": "markdown",
   "metadata": {},
   "source": [
    "- 한글 텍스트 쓰기/읽기"
   ]
  },
  {
   "cell_type": "code",
   "execution_count": 14,
   "metadata": {},
   "outputs": [],
   "source": [
    "# encoding을 지정하지 않고 사용하면 기본적으로 ut-8로 인코딩됨\n",
    "with open ('data/한글 .txt','w') as file:\n",
    "    file.write('안녕하세요?')"
   ]
  },
  {
   "cell_type": "code",
   "execution_count": 16,
   "metadata": {},
   "outputs": [],
   "source": [
    "with open ('data/한글 .txt','w', encoding='CP949') as file:\n",
    "    file.write('안녕하세요?')"
   ]
  },
  {
   "cell_type": "code",
   "execution_count": 19,
   "metadata": {},
   "outputs": [
    {
     "name": "stdout",
     "output_type": "stream",
     "text": [
      "안녕하세요?\n"
     ]
    }
   ],
   "source": [
    "with open ('data/한글 .txt','r', encoding='CP949') as file:\n",
    "    content= file.read()\n",
    "print(content)"
   ]
  },
  {
   "cell_type": "code",
   "execution_count": 20,
   "metadata": {},
   "outputs": [
    {
     "name": "stdout",
     "output_type": "stream",
     "text": [
      "안녕하\n"
     ]
    }
   ],
   "source": [
    "with open ('data/한글 .txt','r', encoding='CP949') as file:\n",
    "    content= file.read(3)\n",
    "print(content)"
   ]
  },
  {
   "attachments": {},
   "cell_type": "markdown",
   "metadata": {},
   "source": [
    "- 여러줄 읽기/쓰기"
   ]
  },
  {
   "cell_type": "code",
   "execution_count": 28,
   "metadata": {},
   "outputs": [],
   "source": [
    "# writelines는 여러 라인을 쓰는게 아니라 리스트와 같이 객체의 데이터를 찍어주는역할\n",
    "fruits =['apple','banana','cherry']\n",
    "with open('data/fruits.txt','w') as file:\n",
    "    file.writelines(fruits)        "
   ]
  },
  {
   "cell_type": "code",
   "execution_count": 29,
   "metadata": {},
   "outputs": [
    {
     "name": "stdout",
     "output_type": "stream",
     "text": [
      "['applebananacherry']\n"
     ]
    }
   ],
   "source": [
    "with open('data/fruits.txt') as file:\n",
    "    lines =file.readlines()             # 줄 단위로 리스트를 만들어줌\n",
    "print(lines)"
   ]
  },
  {
   "cell_type": "code",
   "execution_count": 30,
   "metadata": {},
   "outputs": [
    {
     "name": "stdout",
     "output_type": "stream",
     "text": [
      "applebananacherr\n"
     ]
    }
   ],
   "source": [
    "# 줄 단위로 작업을 하려면\n",
    "for line in lines:\n",
    "    print(line[:-1])"
   ]
  },
  {
   "attachments": {},
   "cell_type": "markdown",
   "metadata": {},
   "source": [
    "- append mode"
   ]
  },
  {
   "cell_type": "code",
   "execution_count": 31,
   "metadata": {},
   "outputs": [],
   "source": [
    "with open('data/fruits.txt','a') as file:\n",
    "    file.write('strawberry\\n')\n",
    "    file.write('melon\\n')\n",
    "    "
   ]
  },
  {
   "attachments": {},
   "cell_type": "markdown",
   "metadata": {},
   "source": [
    "- github에 올리지 않고 파일의 데이터를 이용하기 작업하기"
   ]
  },
  {
   "cell_type": "code",
   "execution_count": 27,
   "metadata": {},
   "outputs": [],
   "source": [
    "password ='password'\n",
    "# password를 이용하여 API 이용하는 코드"
   ]
  },
  {
   "cell_type": "code",
   "execution_count": null,
   "metadata": {},
   "outputs": [],
   "source": [
    "# .gitignore 파일에 password .txt 추가\n",
    "with open('data/password.txt')as file:\n",
    "    password = file.read()\n",
    "# 이 이후에  password를 이용하여 API 이용하는 코드를 작성하면됨\n",
    "# password를 노출하지 않고 githup를 이용할수 있음\n"
   ]
  },
  {
   "attachments": {},
   "cell_type": "markdown",
   "metadata": {},
   "source": [
    "- 파이썬 객체 저장/로드 - binary file 이용"
   ]
  },
  {
   "cell_type": "code",
   "execution_count": 32,
   "metadata": {},
   "outputs": [],
   "source": [
    "import pickle\n",
    "\n",
    "person ={'name':'James','age':25,'address':'장안구 장안구 영화동'}\n",
    "\n",
    "with open('data/person.pkl','wb') as file:\n",
    "    pickle.dump(person,file)\n"
   ]
  },
  {
   "cell_type": "code",
   "execution_count": 33,
   "metadata": {},
   "outputs": [
    {
     "data": {
      "text/plain": [
       "{'name': 'James', 'age': 25, 'address': '장안구 장안구 영화동'}"
      ]
     },
     "execution_count": 33,
     "metadata": {},
     "output_type": "execute_result"
    }
   ],
   "source": [
    "with open('data/person.pkl','rb') as file:\n",
    "    james = pickle.load(file)\n",
    "james"
   ]
  },
  {
   "cell_type": "code",
   "execution_count": 34,
   "metadata": {},
   "outputs": [
    {
     "data": {
      "text/plain": [
       "{'name': 'James', 'age': 25, 'address': '장안구 장안구 영화동'}"
      ]
     },
     "execution_count": 34,
     "metadata": {},
     "output_type": "execute_result"
    }
   ],
   "source": [
    "# 파일 오픈이 필요없는 라이브러리\n",
    "import joblib\n",
    "joblib.dump(person,'data/person.jl')\n",
    "james = joblib.load('data/person.jl')\n",
    "james"
   ]
  },
  {
   "cell_type": "code",
   "execution_count": null,
   "metadata": {},
   "outputs": [],
   "source": []
  }
 ],
 "metadata": {
  "kernelspec": {
   "display_name": "base",
   "language": "python",
   "name": "python3"
  },
  "language_info": {
   "codemirror_mode": {
    "name": "ipython",
    "version": 3
   },
   "file_extension": ".py",
   "mimetype": "text/x-python",
   "name": "python",
   "nbconvert_exporter": "python",
   "pygments_lexer": "ipython3",
   "version": "3.10.9"
  },
  "orig_nbformat": 4
 },
 "nbformat": 4,
 "nbformat_minor": 2
}
