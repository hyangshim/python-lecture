{
 "cells": [
  {
   "attachments": {},
   "cell_type": "markdown",
   "metadata": {},
   "source": [
    "### 8-2. 캡슐화(Encapsulation)"
   ]
  },
  {
   "cell_type": "code",
   "execution_count": 1,
   "metadata": {},
   "outputs": [],
   "source": [
    "# 속성값에 __을 붙이면 비공개 속성이 되어서 \n",
    "# 혹시라도 있을 수있는  오류를 방지 할 수있음.\n",
    "# 비공개 속성을 액세스하기 위해서 Getter/Setter를 만들어줌"
   ]
  },
  {
   "cell_type": "code",
   "execution_count": 8,
   "metadata": {},
   "outputs": [],
   "source": [
    "class Tmoney:\n",
    "    def __init__(self,age,balance):\n",
    "        self.age = age\n",
    "        self.__balance =balance\n",
    "        \n",
    "    def pay(self):\n",
    "        if 7 <=self.age <=12:\n",
    "            fare = 650\n",
    "        elif 13<=self.age <=18:\n",
    "            fare =1050\n",
    "        elif self.age >=19:\n",
    "            fare =1250\n",
    "        else:\n",
    "            fare =0\n",
    "\n",
    "        if self.__balance < fare:\n",
    "            print('잔액이 부족합니다.')\n",
    "            return\n",
    "        self.__balance -= fare\n",
    "        print(f'{self.age}살의 요금은 {fare:,d}원이고,잔액은{self.__balance:,d}원입니다.')\n",
    "    def charge(self,amount):\n",
    "        self.amount =amount\n",
    "        print(f'{amount:,d}원을 충전하였고,잔액은{self.__balance:,d}원입니다.')"
   ]
  },
  {
   "cell_type": "code",
   "execution_count": 9,
   "metadata": {},
   "outputs": [
    {
     "data": {
      "text/plain": [
       "15"
      ]
     },
     "execution_count": 9,
     "metadata": {},
     "output_type": "execute_result"
    }
   ],
   "source": [
    "tmoney =Tmoney(15,10000)\n",
    "tmoney.age"
   ]
  },
  {
   "cell_type": "code",
   "execution_count": 5,
   "metadata": {},
   "outputs": [
    {
     "ename": "AttributeError",
     "evalue": "'Tmoney' object has no attribute '__balance'",
     "output_type": "error",
     "traceback": [
      "\u001b[1;31m---------------------------------------------------------------------------\u001b[0m",
      "\u001b[1;31mAttributeError\u001b[0m                            Traceback (most recent call last)",
      "Cell \u001b[1;32mIn[5], line 1\u001b[0m\n\u001b[1;32m----> 1\u001b[0m tmoney\u001b[39m.\u001b[39;49m__balance\n",
      "\u001b[1;31mAttributeError\u001b[0m: 'Tmoney' object has no attribute '__balance'"
     ]
    }
   ],
   "source": [
    "tmoney.__balance"
   ]
  },
  {
   "cell_type": "code",
   "execution_count": 11,
   "metadata": {},
   "outputs": [
    {
     "name": "stdout",
     "output_type": "stream",
     "text": [
      "15살의 요금은 1,050원이고,잔액은8,950원입니다.\n",
      "15살의 요금은 1,050원이고,잔액은7,900원입니다.\n",
      "15살의 요금은 1,050원이고,잔액은6,850원입니다.\n",
      "15살의 요금은 1,050원이고,잔액은5,800원입니다.\n",
      "15살의 요금은 1,050원이고,잔액은4,750원입니다.\n",
      "15살의 요금은 1,050원이고,잔액은3,700원입니다.\n",
      "15살의 요금은 1,050원이고,잔액은2,650원입니다.\n",
      "15살의 요금은 1,050원이고,잔액은1,600원입니다.\n",
      "15살의 요금은 1,050원이고,잔액은550원입니다.\n",
      "잔액이 부족합니다.\n"
     ]
    }
   ],
   "source": [
    "for _ in range(10):\n",
    "    tmoney.pay()"
   ]
  },
  {
   "attachments": {},
   "cell_type": "markdown",
   "metadata": {},
   "source": [
    "- 연습문제\n",
    "    - 이름,나이,주소,지갑(wallet)을 속성으로 갖는 Person 클래스\n",
    "    - 지갑은 비공개 속성으로 할것\n",
    "    - __str__ 메소드를 만들어서 이름,나이,주소,지갑(wallet)를 출력할 수있게 할것"
   ]
  },
  {
   "cell_type": "code",
   "execution_count": 27,
   "metadata": {},
   "outputs": [],
   "source": [
    "class Person:\n",
    "    def __init__(self,name,age,address,wallet):\n",
    "        self.name = name\n",
    "        self.age =age\n",
    "        self.address =address\n",
    "        self.__wallet =wallet\n",
    "        \n",
    "    def __str__(self):\n",
    "        return(f'{self.name},{self.age},{self.address},{self.__wallet}')\n",
    "    \n",
    " "
   ]
  },
  {
   "cell_type": "code",
   "execution_count": 29,
   "metadata": {},
   "outputs": [
    {
     "name": "stdout",
     "output_type": "stream",
     "text": [
      "마리아,12,수원시,1000\n"
     ]
    }
   ],
   "source": [
    "maria = Person('마리아',12,'수원시',1000)\n",
    "print(maria)"
   ]
  },
  {
   "cell_type": "code",
   "execution_count": 30,
   "metadata": {},
   "outputs": [
    {
     "name": "stdout",
     "output_type": "stream",
     "text": [
      "마리아,12,강원도,1000\n"
     ]
    }
   ],
   "source": [
    "maria.address = '강원도'\n",
    "print(maria)"
   ]
  },
  {
   "cell_type": "code",
   "execution_count": 34,
   "metadata": {},
   "outputs": [],
   "source": [
    "class Person:\n",
    "    def __init__(self,name,age,address,wallet):\n",
    "        self.name = name\n",
    "        self.age =age\n",
    "        self.address =address\n",
    "        self.__wallet =wallet\n",
    "        \n",
    "    def __str__(self):\n",
    "        return(f'{self.name},{self.age},{self.address},{self.__wallet}')\n",
    "    \n",
    "    def get_wallet(self):\n",
    "        return self.__wallet\n",
    "    \n",
    "    def set_wallet(self,wallet):\n",
    "        self.__wallet = wallet"
   ]
  },
  {
   "cell_type": "code",
   "execution_count": 35,
   "metadata": {},
   "outputs": [
    {
     "name": "stdout",
     "output_type": "stream",
     "text": [
      "1000\n"
     ]
    }
   ],
   "source": [
    "maria = Person('마리아',12,'수원시',1000)\n",
    "print(maria.get_wallet())"
   ]
  },
  {
   "cell_type": "code",
   "execution_count": 36,
   "metadata": {},
   "outputs": [
    {
     "name": "stdout",
     "output_type": "stream",
     "text": [
      "30000\n"
     ]
    }
   ],
   "source": [
    "maria.set_wallet(30000)\n",
    "print(maria.get_wallet())"
   ]
  },
  {
   "attachments": {},
   "cell_type": "markdown",
   "metadata": {},
   "source": [
    "- 비공개 메소드"
   ]
  },
  {
   "cell_type": "code",
   "execution_count": 40,
   "metadata": {},
   "outputs": [],
   "source": [
    "class Worker:\n",
    "    def __greeting(self):\n",
    "        print('__greeting():안녕하세요')\n",
    "\n",
    "    def hello(self):\n",
    "        self.__greeting()\n"
   ]
  },
  {
   "cell_type": "code",
   "execution_count": 43,
   "metadata": {},
   "outputs": [
    {
     "name": "stdout",
     "output_type": "stream",
     "text": [
      "__greeting():안녕하세요\n"
     ]
    }
   ],
   "source": [
    "worker = Worker()\n",
    "worker.hello()"
   ]
  },
  {
   "cell_type": "code",
   "execution_count": null,
   "metadata": {},
   "outputs": [],
   "source": []
  }
 ],
 "metadata": {
  "kernelspec": {
   "display_name": "base",
   "language": "python",
   "name": "python3"
  },
  "language_info": {
   "codemirror_mode": {
    "name": "ipython",
    "version": 3
   },
   "file_extension": ".py",
   "mimetype": "text/x-python",
   "name": "python",
   "nbconvert_exporter": "python",
   "pygments_lexer": "ipython3",
   "version": "3.10.10"
  },
  "orig_nbformat": 4
 },
 "nbformat": 4,
 "nbformat_minor": 2
}
