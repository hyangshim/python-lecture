{
 "cells": [
  {
   "attachments": {},
   "cell_type": "markdown",
   "metadata": {},
   "source": [
    "### 1. 백준도장 2884번 알람 시계"
   ]
  },
  {
   "cell_type": "code",
   "execution_count": 5,
   "metadata": {},
   "outputs": [
    {
     "name": "stdout",
     "output_type": "stream",
     "text": [
      "-1 45\n"
     ]
    }
   ],
   "source": [
    "def time():\n",
    "    hour = int(input('시간 입력 > '))\n",
    "    minut = int(input('분 입력 > '))\n",
    "    if minut < 45 and hour == 1:\n",
    "        resTag = f\"{12} {minut + 15}\"\n",
    "    elif minut < 45:\n",
    "        resTag = f\"{hour - 1} {minut + 15}\"\n",
    "    else:\n",
    "        resTag = f\"{hour} {minut - 45}\"\n",
    "    \n",
    "    return resTag\n",
    "result = time()\n",
    "print(result)"
   ]
  },
  {
   "cell_type": "code",
   "execution_count": 4,
   "metadata": {},
   "outputs": [
    {
     "name": "stdout",
     "output_type": "stream",
     "text": [
      "23:522\n"
     ]
    }
   ],
   "source": [
    "hour,minute = map(int,input().split())\n",
    "if minute >= 45:\n",
    "    newHour = hour\n",
    "    newMin =minute - 45\n",
    "else:\n",
    "    newHour = (hour +24 - 1)%24\n",
    "    newMin =minute + 60 - 45\n",
    "print(f'{newHour:02d}:{newMin:02d}')"
   ]
  },
  {
   "attachments": {},
   "cell_type": "markdown",
   "metadata": {},
   "source": [
    "### 2. 백준도장 2480번 주사위 문제\n",
    "\n",
    "단, 주사위 3개의 눈은 입력을 통해서 받지 말고, 랜덤 넘버로 만들 것"
   ]
  },
  {
   "cell_type": "code",
   "execution_count": 15,
   "metadata": {},
   "outputs": [
    {
     "name": "stdout",
     "output_type": "stream",
     "text": [
      "6, 2, 2, 1200;\n"
     ]
    }
   ],
   "source": [
    "import random\n",
    "\n",
    "def drawing():\n",
    "    dice1 = random.randint(1, 6)\n",
    "    dice2 = random.randint(1, 6)\n",
    "    dice3 = random.randint(1, 6)\n",
    "    drawing = 0\n",
    "\n",
    "    if dice1 == dice2 == dice3:\n",
    "        drawing = (dice1 * 1000 + 10000)\n",
    "    elif dice1 == dice2:\n",
    "        drawing = (dice1 * 100 + 1000)\n",
    "    elif dice2 == dice3:\n",
    "        drawing = (dice2 * 100 + 1000)\n",
    "    elif dice1 == dice3:\n",
    "        drawing = (dice1 * 100 + 1000)\n",
    "    else:\n",
    "        drawing = (max(dice1, dice2, dice3) * 100)\n",
    "\n",
    "    print(f\"{dice1}, {dice2}, {dice3}, {drawing};\")\n",
    "drawing()\n"
   ]
  },
  {
   "attachments": {},
   "cell_type": "markdown",
   "metadata": {},
   "source": [
    "### 3. 완전수 구하기\n",
    "- 2에서 10000 사이의 완전수 구하기\n",
    "        "
   ]
  },
  {
   "cell_type": "code",
   "execution_count": 12,
   "metadata": {},
   "outputs": [
    {
     "name": "stdout",
     "output_type": "stream",
     "text": [
      "28\n"
     ]
    }
   ],
   "source": [
    "# 자기 자신을 제외한 약수의 합\n",
    "num = 28\n",
    "divSum = 0\n",
    "for i in range(1,num):\n",
    "    if num % i ==0:\n",
    "        divSum+= i\n",
    "print(divSum)"
   ]
  },
  {
   "cell_type": "code",
   "execution_count": 11,
   "metadata": {},
   "outputs": [
    {
     "name": "stdout",
     "output_type": "stream",
     "text": [
      "6\n",
      "28\n",
      "496\n",
      "8128\n"
     ]
    }
   ],
   "source": [
    "for num in range(2,10001):\n",
    "    divSum = 0\n",
    "    for i in range(1,num):\n",
    "        if num % i == 0:\n",
    "            divSum += i\n",
    "    if num == divSum:      #완전수 조건\n",
    "        print(num)\n"
   ]
  },
  {
   "attachments": {},
   "cell_type": "markdown",
   "metadata": {},
   "source": [
    "### 4. 도전과제: 피타고라스 수\n",
    "\n",
    "직각삼각형의 세변(a < b < c)이 있다.\n",
    "\n",
    "a + b + c = 1000 을 만족시키는 직각삼각형의 세변을 구하세요. (단, a*a + b*b = c*c)"
   ]
  },
  {
   "cell_type": "code",
   "execution_count": 14,
   "metadata": {},
   "outputs": [
    {
     "name": "stdout",
     "output_type": "stream",
     "text": [
      "200 375 425\n"
     ]
    }
   ],
   "source": [
    "for a in range(1,1001):\n",
    "    for b in range(1,1001):\n",
    "        c = 1000- a-b\n",
    "        if a*a + b*b== c*c:\n",
    "            print(a,b,c)\n",
    "            break"
   ]
  },
  {
   "cell_type": "code",
   "execution_count": 16,
   "metadata": {},
   "outputs": [
    {
     "name": "stdout",
     "output_type": "stream",
     "text": [
      "200 375 425\n"
     ]
    }
   ],
   "source": [
    "# a < b\n",
    "for a in range(1,1001):\n",
    "    for b in range(a+1,1001):\n",
    "        c = 1000- a-b\n",
    "        if a*a + b*b== c*c:\n",
    "            print(a,b,c)\n",
    "            break"
   ]
  },
  {
   "cell_type": "code",
   "execution_count": null,
   "metadata": {},
   "outputs": [],
   "source": [
    "# a < b < c 조건과 a + b +c = 1000에서 a,b 값의 범위 유추\n",
    "for a in range(1,333):\n",
    "    for b in range(a+1,500):\n",
    "        c = 1000- a-b\n",
    "        if a*a + b*b== c*c:\n",
    "            print(a,b,c)\n",
    "            break"
   ]
  }
 ],
 "metadata": {
  "kernelspec": {
   "display_name": "base",
   "language": "python",
   "name": "python3"
  },
  "language_info": {
   "codemirror_mode": {
    "name": "ipython",
    "version": 3
   },
   "file_extension": ".py",
   "mimetype": "text/x-python",
   "name": "python",
   "nbconvert_exporter": "python",
   "pygments_lexer": "ipython3",
   "version": "3.10.9"
  },
  "orig_nbformat": 4,
  "vscode": {
   "interpreter": {
    "hash": "9ad9f9c592abbba12f5149783f85538b4c5669fc68fed8dcce4ba0e7c6bb3d74"
   }
  }
 },
 "nbformat": 4,
 "nbformat_minor": 2
}
