{
 "cells": [
  {
   "attachments": {},
   "cell_type": "markdown",
   "metadata": {},
   "source": [
    "### 1) 1에서 100까지 3의 배수의 합을 구하세요."
   ]
  },
  {
   "cell_type": "code",
   "execution_count": 1,
   "metadata": {},
   "outputs": [
    {
     "name": "stdout",
     "output_type": "stream",
     "text": [
      "1683\n"
     ]
    }
   ],
   "source": [
    "sum3 = 0\n",
    "for i in range(3,100,3):\n",
    "    sum3 += i\n",
    "print(sum3)"
   ]
  },
  {
   "attachments": {},
   "cell_type": "markdown",
   "metadata": {},
   "source": [
    "### 2) 두 개의 양의 정수를 입력으로 받아서 작은 수부터 큰 수 까지제곱수의 합을 구하세요."
   ]
  },
  {
   "cell_type": "code",
   "execution_count": 4,
   "metadata": {},
   "outputs": [
    {
     "name": "stdout",
     "output_type": "stream",
     "text": [
      "2에서 5까지 제곱의 합은54\n"
     ]
    }
   ],
   "source": [
    "a,b =map(int, input().split())\n",
    "small = a if a < b else b \n",
    "large = a if a > b else b\n",
    "dd_sp = 0\n",
    "for i in range(small,large+1):\n",
    "    dd_sp += i*i\n",
    "print(f'{small}에서 {large}까지 제곱의 합은{dd_sp}')"
   ]
  },
  {
   "attachments": {},
   "cell_type": "markdown",
   "metadata": {},
   "source": [
    "### 3) 1에서 20까지 홀수의 제곱의 합을 구하는데, List Comprehension을 사용하여 구하세요."
   ]
  },
  {
   "cell_type": "code",
   "execution_count": 6,
   "metadata": {},
   "outputs": [
    {
     "data": {
      "text/plain": [
       "[1, 9, 25, 49, 81, 121, 169, 225, 289, 361]"
      ]
     },
     "execution_count": 6,
     "metadata": {},
     "output_type": "execute_result"
    }
   ],
   "source": [
    "odd_sp_list = []\n",
    "for i in range(1,21):\n",
    "    if i % 2 ==1:\n",
    "        odd_sp_list.append(i*i)\n",
    "odd_sp_list\n",
    "          \n"
   ]
  },
  {
   "cell_type": "code",
   "execution_count": 5,
   "metadata": {},
   "outputs": [
    {
     "data": {
      "text/plain": [
       "1330"
      ]
     },
     "execution_count": 5,
     "metadata": {},
     "output_type": "execute_result"
    }
   ],
   "source": [
    "sum([i * i for i in range(1,21) if i % 2 ==1 ])"
   ]
  },
  {
   "attachments": {},
   "cell_type": "markdown",
   "metadata": {},
   "source": [
    "### [문항3] [3.1][3.2][3.3] [배점: 40]\n",
    "\n",
    "1과 자기자신 만을 약수로 갖는 수를 소수(Prime number)라고 한다.\n",
    "\n",
    "  1) 어떤 수가 소수인가를 판단하는 함수 is_prime(num)을 작성하세요.\n",
    "     2, 3과 같이 소수면 True를 아니면 False를 반환하게 만드세요.\n",
    "\n",
    "  2) 1)에서 만든 함수를 이용하여 2에서부터 100까지 소수를 찾으세요."
   ]
  },
  {
   "cell_type": "code",
   "execution_count": 20,
   "metadata": {},
   "outputs": [
    {
     "name": "stdout",
     "output_type": "stream",
     "text": [
      "True\n"
     ]
    }
   ],
   "source": [
    "def s_prime(num):\n",
    "    for i in range(2, num):\n",
    "        if num % i == 0:\n",
    "            return False \n",
    "    return True\n",
    "print(s_prime(1))    "
   ]
  },
  {
   "cell_type": "code",
   "execution_count": null,
   "metadata": {},
   "outputs": [],
   "source": [
    "def s_prime(num):\n",
    "    divisors =[i for i in range(1,num+1) if num % i == 0]\n",
    "    result1 =True if len(divisors) == 2 else False\n",
    "    "
   ]
  },
  {
   "cell_type": "code",
   "execution_count": 18,
   "metadata": {},
   "outputs": [
    {
     "name": "stdout",
     "output_type": "stream",
     "text": [
      "2 3 5 7 11 13 17 19 23 29 31 37 41 43 47 53 59 61 67 71 73 79 83 89 97 "
     ]
    }
   ],
   "source": [
    "def s_prime(num):\n",
    "    arr = [True] * (num + 1) # 특정 수가 지워졌는지 아닌지 확인하기 위한 배열\n",
    "    arr[0] = False\n",
    "    arr[1] = False\n",
    "\n",
    "    for i in range(2, num + 1):\n",
    "        if arr[i] == True: # 특정 수가 지워지지 않았다면 (소수여서)\n",
    "            j = 2\n",
    "\n",
    "            while (i * j) <= num:\n",
    "                arr[i*j] = False # i의 배수의 값을 False로 지워준다.\n",
    "                j += 1\n",
    "\n",
    "    return arr\n",
    "\n",
    "arr = s_prime(100) # 0 ~ 50중 소수를 구하기 위한 함수\n",
    "\n",
    "for i in range(len(arr)):\n",
    "    if arr[i] == True:\n",
    "        print(i, end=' ')\n",
    "   "
   ]
  },
  {
   "cell_type": "code",
   "execution_count": 21,
   "metadata": {},
   "outputs": [],
   "source": [
    "import datetime as dt\n",
    "class Member :\n",
    "    def __init__(self,mid,name,birth_year,tel):\n",
    "        self.mid=mid\n",
    "        self.name =name\n",
    "        self.birth_year =birth_year  \n",
    "        self.__tel = tel\n",
    "    def get_age(self):\n",
    "        today = dt.date.today()\n",
    "        return today.year - self.birth_year\n",
    "    def set_tel(self,tel):\n",
    "        self.__tel =tel\n",
    "        return\n",
    "    def __str__(self):\n",
    "        return f'ID:{self.mid},이름:{self.name},나이:{self.get_age()},전화번호:{self.__tel}'\n",
    "\n",
    "   "
   ]
  },
  {
   "cell_type": "code",
   "execution_count": 22,
   "metadata": {},
   "outputs": [
    {
     "name": "stdout",
     "output_type": "stream",
     "text": [
      "ID:james,이름:제임스,나이:23,전화번호:010-2595-8741\n",
      "ID:maria,이름:마리아,나이:22,전화번호:010-2247-6541\n"
     ]
    }
   ],
   "source": [
    "james = Member('james','제임스',2000,'010-2345-6789')\n",
    "maria = Member('maria','마리아',2001,'010-9876-5432')\n",
    "james.set_tel('010-2595-8741')\n",
    "maria.set_tel('010-2247-6541')\n",
    "print(james)\n",
    "print(maria)"
   ]
  },
  {
   "cell_type": "code",
   "execution_count": null,
   "metadata": {},
   "outputs": [],
   "source": []
  }
 ],
 "metadata": {
  "kernelspec": {
   "display_name": "base",
   "language": "python",
   "name": "python3"
  },
  "language_info": {
   "codemirror_mode": {
    "name": "ipython",
    "version": 3
   },
   "file_extension": ".py",
   "mimetype": "text/x-python",
   "name": "python",
   "nbconvert_exporter": "python",
   "pygments_lexer": "ipython3",
   "version": "3.10.10"
  },
  "orig_nbformat": 4
 },
 "nbformat": 4,
 "nbformat_minor": 2
}
