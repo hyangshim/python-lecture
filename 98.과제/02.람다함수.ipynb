{
 "cells": [
  {
   "attachments": {},
   "cell_type": "markdown",
   "metadata": {},
   "source": [
    " - Q .1\n",
    " 다음의 리스트에서 제조사와 모델명을 별도의 리스트를 만드세요<br>\n",
    "단 ,람다 함수를 사용하세요"
   ]
  },
  {
   "cell_type": "code",
   "execution_count": 1,
   "metadata": {},
   "outputs": [],
   "source": [
    "cars = ['buick skylark 320','plymouth satellite','amc reble sst','ford torino']"
   ]
  },
  {
   "cell_type": "code",
   "execution_count": 15,
   "metadata": {},
   "outputs": [
    {
     "data": {
      "text/plain": [
       "['buick', 'plymouth', 'amc', 'ford']"
      ]
     },
     "execution_count": 15,
     "metadata": {},
     "output_type": "execute_result"
    }
   ],
   "source": [
    "# map함수는 cars리스트 문자열을 순회\n",
    "# lambda 함수는 'x'라는 인자 받아서 \n",
    "# x.split()[0] 공백문자로 분리한 결과를  0번째 반환\n",
    "# map()함수 반환결과를 manufacturers 저장\n",
    "manufacturers = list(map(lambda x :x.split()[0],cars))\n",
    "manufacturers"
   ]
  },
  {
   "cell_type": "code",
   "execution_count": 23,
   "metadata": {},
   "outputs": [
    {
     "data": {
      "text/plain": [
       "['skylark 320', 'satellite', 'reble sst', 'torino']"
      ]
     },
     "execution_count": 23,
     "metadata": {},
     "output_type": "execute_result"
    }
   ],
   "source": [
    "#cars 리스트에 있는 각 문자열을 공백 문자로 분리한 후, \n",
    "# 첫 번째 단어를 제외한 나머지 단어들을 다시 합쳐서 모델명을 만들고, \n",
    "#이를 새로운 리스트인 models에 추가하는 코드\n",
    "models = list(map(lambda x: ' '.join(x.split()[1:]), cars))\n",
    "models"
   ]
  },
  {
   "cell_type": "code",
   "execution_count": null,
   "metadata": {},
   "outputs": [],
   "source": []
  }
 ],
 "metadata": {
  "kernelspec": {
   "display_name": "base",
   "language": "python",
   "name": "python3"
  },
  "language_info": {
   "codemirror_mode": {
    "name": "ipython",
    "version": 3
   },
   "file_extension": ".py",
   "mimetype": "text/x-python",
   "name": "python",
   "nbconvert_exporter": "python",
   "pygments_lexer": "ipython3",
   "version": "3.10.9"
  },
  "orig_nbformat": 4
 },
 "nbformat": 4,
 "nbformat_minor": 2
}
