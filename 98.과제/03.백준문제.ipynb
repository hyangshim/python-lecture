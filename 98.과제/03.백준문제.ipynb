{
 "cells": [
  {
   "attachments": {},
   "cell_type": "markdown",
   "metadata": {},
   "source": [
    "#### 1181\n",
    "알파벳 소문자로 이루어진 N개의 단어가 들어오면 아래와 같은 조건에 따라 정렬하는 프로그램을 작성하시오.\n",
    "\n",
    "길이가 짧은 것부터\n",
    "길이가 같으면 사전 순으로\n",
    "단, 중복된 단어는 하나만 남기고 제거해야 한다.\n",
    "첫째 줄에 단어의 개수 N이 주어진다. (1 ≤ N ≤ 20,000) 둘째 줄부터 N개의 줄에 걸쳐 알파벳 소문자로 이루어진 단어가 한 줄에 하나씩 주어진다. 주어지는 문자열의 길이는 50을 넘지 않는다."
   ]
  },
  {
   "cell_type": "code",
   "execution_count": 3,
   "metadata": {},
   "outputs": [],
   "source": [
    "# Step 1. 빈 word_dict 만들기\n",
    "word_dict = {key: set() for key in range(1, 51)}"
   ]
  },
  {
   "cell_type": "code",
   "execution_count": 5,
   "metadata": {},
   "outputs": [],
   "source": [
    "# 2. 단어 읽으면서 word_dict에 채워 넣기\n",
    "num = int(input('읽을 단어의 갯수>'))\n",
    "for _ in range(num):\n",
    "    word = input()\n",
    "    word_dict[len(word)].add(word)"
   ]
  },
  {
   "cell_type": "markdown",
   "metadata": {},
   "source": [
    "for key in range(1,51):\n",
    "    if len(word_dict[key]) == 0:\n",
    "        continue\n",
    "    print(word_dict[key])"
   ]
  },
  {
   "cell_type": "code",
   "execution_count": 6,
   "metadata": {},
   "outputs": [
    {
     "name": "stdout",
     "output_type": "stream",
     "text": [
      "i\n",
      "it\n",
      "no\n",
      "but\n",
      "more\n",
      "wait\n",
      "wont\n",
      "cannot\n",
      "hesitate\n"
     ]
    }
   ],
   "source": [
    "#3.주어진 순서대로 출력하기\n",
    "for key in range(1,51):\n",
    "    if len(word_dict[key])==0:\n",
    "        continue\n",
    "    for word in sorted(word_dict[key]):\n",
    "        print(word)"
   ]
  },
  {
   "attachments": {},
   "cell_type": "markdown",
   "metadata": {},
   "source": [
    "#### 2231번 - 분해합\n",
    "어떤 자연수 N이 있을 때, 그 자연수 N의 분해합은 N과 N을 이루는 각 자리수의 합을 의미한다. 어떤 자연수 M의 분해합이 N인 경우, M을 N의 생성자라 한다. 예를 들어, 245의 분해합은 256(=245+2+4+5)이 된다. 따라서 245는 256의 생성자가 된다. 물론, 어떤 자연수의 경우에는 생성자가 없을 수도 있다. 반대로, 생성자가 여러 개인 자연수도 있을 수 있다. 자연수 N이 주어졌을 때, N의 가장 작은 생성자를 구해내는 프로그램을 작성하시오.\n"
   ]
  },
  {
   "cell_type": "code",
   "execution_count": null,
   "metadata": {},
   "outputs": [],
   "source": [
    " # 분해합을 반환하는 함수\n",
    "def sum_of_decomposition(num):\n",
    "    numStr =str(num)\n",
    "    result = num\n",
    "    for i in range(len(numStr)):\n",
    "        result +=int(numStr[i])\n",
    "    return result"
   ]
  },
  {
   "cell_type": "code",
   "execution_count": null,
   "metadata": {},
   "outputs": [
    {
     "data": {
      "text/plain": [
       "216"
      ]
     },
     "execution_count": 18,
     "metadata": {},
     "output_type": "execute_result"
    }
   ],
   "source": [
    "sum_of_decomposition(198)"
   ]
  },
  {
   "cell_type": "code",
   "execution_count": null,
   "metadata": {},
   "outputs": [
    {
     "name": "stdout",
     "output_type": "stream",
     "text": [
      "4563의 최소 생성자4545\n"
     ]
    }
   ],
   "source": [
    "num =int(input())\n",
    "for i in range(num - 9 *len (str(num)),num):\n",
    "    if sum_of_decomposition(i) == num:\n",
    "        print(f'{num}의 최소 생성자{i}')\n",
    "        break"
   ]
  },
  {
   "attachments": {},
   "cell_type": "markdown",
   "metadata": {},
   "source": [
    "#### 2839 설탕배달\n",
    "상근이는 요즘 설탕공장에서 설탕을 배달하고 있다. 상근이는 지금 사탕가게에 설탕을 정확하게 N킬로그램을 배달해야 한다. 설탕공장에서 만드는 설탕은 봉지에 담겨져 있다. 봉지는 3킬로그램 봉지와 5킬로그램 봉지가 있다.\n",
    "\n",
    "상근이는 귀찮기 때문에, 최대한 적은 봉지를 들고 가려고 한다. 예를 들어, 18킬로그램 설탕을 배달해야 할 때, 3킬로그램 봉지 6개를 가져가도 되지만, 5킬로그램 3개와 3킬로그램 1개를 배달하면, 더 적은 개수의 봉지를 배달할 수 있다.\n",
    "\n",
    "상근이가 설탕을 정확하게 N킬로그램 배달해야 할 때, 봉지 몇 개를 가져가면 되는지 그 수를 구하는 프로그램을 작성하시오.\n",
    "첫째 줄에 N이 주어진다. (3 ≤ N ≤ 5000)"
   ]
  },
  {
   "cell_type": "code",
   "execution_count": null,
   "metadata": {},
   "outputs": [
    {
     "name": "stdout",
     "output_type": "stream",
     "text": [
      "-1\n"
     ]
    }
   ],
   "source": [
    "num = int(input())\n",
    "\n",
    "num5, num3 = 0,0\n",
    "try:\n",
    "    for i in range(num // 5, num // 3+1):\n",
    "        for k in range(i+1):\n",
    "            if num == 3 * k + 5 * (i-k):\n",
    "                num5 = i - k\n",
    "                num3 = k\n",
    "                raise Exception\n",
    "except:\n",
    "    print(f'{num}kg: 5kg 봉지 {num5}개, 3kg 봉지 {num3}개')\n",
    "else:\n",
    "    print(-1)"
   ]
  },
  {
   "attachments": {},
   "cell_type": "markdown",
   "metadata": {},
   "source": [
    "#### 3003번 - 킹, 퀸, 룩, 비숍, 나이트, 폰\n",
    "동혁이는 오래된 창고를 뒤지다가 낡은 체스판과 피스를 발견했다.\n",
    "\n",
    "체스판의 먼지를 털어내고 걸레로 닦으니 그럭저럭 쓸만한 체스판이 되었다. 하지만, 검정색 피스는 모두 있었으나, 흰색 피스는 개수가 올바르지 않았다.\n",
    "\n",
    "체스는 총 16개의 피스를 사용하며, 킹 1개, 퀸 1개, 룩 2개, 비숍 2개, 나이트 2개, 폰 8개로 구성되어 있다.\n",
    "\n",
    "동혁이가 발견한 흰색 피스의 개수가 주어졌을 때, 몇 개를 더하거나 빼야 올바른 세트가 되는지 구하는 프로그램을 작성하시오.\n",
    " ### 입력 첫째 줄에 동혁이가 찾은 흰색 킹, 퀸, 룩, 비숍, 나이트, 폰의 개수가 주어진다. 이 값은 0보다 크거나 같고 10보다 작거나 같은 정수이다\n",
    " ### 첫째 줄에 입력에서 주어진 순서대로 몇 개의 피스를 더하거나 빼야 되는지를 출력한다. 만약 수가 양수라면 동혁이는 그 개수 만큼 피스를 더해야 하는 것이고, 음수라면 제거해야 하는 것이다."
   ]
  },
  {
   "cell_type": "code",
   "execution_count": null,
   "metadata": {},
   "outputs": [],
   "source": [
    "chess_pieces = [1,1,2,2,2,8]\n",
    "chess_names = 'king Queen Rook Bishop Knight Pawa'.split()"
   ]
  },
  {
   "cell_type": "code",
   "execution_count": null,
   "metadata": {},
   "outputs": [
    {
     "name": "stdout",
     "output_type": "stream",
     "text": [
      "100001"
     ]
    },
    {
     "data": {
      "text/plain": [
       "<function print>"
      ]
     },
     "execution_count": 32,
     "metadata": {},
     "output_type": "execute_result"
    }
   ],
   "source": [
    "\"\"\" k,q,r,b,k,p = map(int,input().split())\n",
    "pieces = [k,q,r,b,k,p] \"\"\"\n",
    "pieces = list(map(int,input().split()))\n",
    "for i in range(len(pieces)):\n",
    "    print(chess_pieces[i]-pieces[i],end= '  ')\n",
    "print()"
   ]
  },
  {
   "attachments": {},
   "cell_type": "markdown",
   "metadata": {},
   "source": [
    "#### 4344번 - 평균은 넘겠지\n",
    "    - 첫째 줄에는 테스트 케이스의 개수 C가 주어진다.\n",
    "      둘째 줄부터 각 테스트 케이스마다 학생의 수 N(1 ≤ N ≤ 1000, N은 정수)이 첫 수로 주어지고, 이어서 N명의 점수가 주어진다. 점수는 0보다 크거나 같고, 100보다 작거나 같은 정수이다.\n",
    "\n",
    "    - 각 케이스마다 한 줄씩 평균을 넘는 학생들의 비율을 반올림하여 소수점 셋째 자리까지 출력한다."
   ]
  },
  {
   "cell_type": "code",
   "execution_count": 17,
   "metadata": {},
   "outputs": [],
   "source": [
    "def above_average(score_list):\n",
    "    avg = sum(score_list)/ len(score_list)\n",
    "    \"\"\" count = 0\n",
    "    for score in score_list:\n",
    "        if score >avg:\n",
    "            count += 1 \"\"\"\n",
    "    count = sum(map(lambda x :x >avg,score_list))\n",
    "    print(round((count / len(score_list)*100),3),'%')\n"
   ]
  },
  {
   "cell_type": "code",
   "execution_count": 18,
   "metadata": {},
   "outputs": [
    {
     "name": "stdout",
     "output_type": "stream",
     "text": [
      "40.0 %\n"
     ]
    }
   ],
   "source": [
    "above_average([50, 50, 70, 80, 100])"
   ]
  },
  {
   "cell_type": "code",
   "execution_count": 23,
   "metadata": {},
   "outputs": [
    {
     "name": "stdout",
     "output_type": "stream",
     "text": [
      "40.0 %\n",
      "57.143 %\n",
      "33.333 %\n",
      "66.667 %\n",
      "55.556 %\n"
     ]
    }
   ],
   "source": [
    "num = int(input())\n",
    "for i in range(num):\n",
    "    scores = list(map(int,input().split()))[1:]\n",
    "    above_average(scores)"
   ]
  },
  {
   "attachments": {},
   "cell_type": "markdown",
   "metadata": {},
   "source": [
    "#### 11720 숫자의 합"
   ]
  },
  {
   "cell_type": "code",
   "execution_count": null,
   "metadata": {},
   "outputs": [
    {
     "name": "stdout",
     "output_type": "stream",
     "text": [
      "7\n"
     ]
    }
   ],
   "source": [
    "num =int(input())\n",
    "s =input()\n",
    "sum_of_digit = 0\n",
    "for i in range (num):\n",
    "    sum_of_digit += int(s[i])\n",
    "print(sum_of_digit)\n",
    " "
   ]
  },
  {
   "attachments": {},
   "cell_type": "markdown",
   "metadata": {},
   "source": [
    "### 19532\n",
    "수학은 비대면강의입니다"
   ]
  },
  {
   "cell_type": "code",
   "execution_count": null,
   "metadata": {},
   "outputs": [
    {
     "name": "stdout",
     "output_type": "stream",
     "text": [
      "2 -1\n"
     ]
    }
   ],
   "source": [
    "a,b,c,d,e,f = map(int,input().split())\n",
    "\n",
    "try:\n",
    "    for x in range(-999,1000):\n",
    "        for y in range(-999,1000):\n",
    "            if a*x+b*y == c and d*x + e*y ==f:\n",
    "                print(x,y)\n",
    "                raise Exception   # 의도적으로 예외를 발생시켜 모든 loop탈출\n",
    "except:\n",
    "    pass"
   ]
  },
  {
   "attachments": {},
   "cell_type": "markdown",
   "metadata": {},
   "source": [
    "### 25206번 - 너의 평점은"
   ]
  },
  {
   "cell_type": "code",
   "execution_count": null,
   "metadata": {},
   "outputs": [],
   "source": [
    "scores = '''\n",
    "ObjectOrientedProgramming1 3.0 A+\n",
    "IntroductiontoComputerEngineering 3.0 A+\n",
    "ObjectOrientedProgramming2 3.0 A0\n",
    "CreativeComputerEngineeringDesign 3.0 A+\n",
    "AssemblyLanguage 3.0 A+\n",
    "InternetProgramming 3.0 B0\n",
    "ApplicationProgramminginJava 3.0 A0\n",
    "SystemProgramming 3.0 B0\n",
    "OperatingSystem 3.0 B0\n",
    "WirelessCommunicationsandNetworking 3.0 C+\n",
    "LogicCircuits 3.0 B0\n",
    "DataStructure 4.0 A+\n",
    "MicroprocessorApplication 3.0 B+\n",
    "EmbeddedSoftware 3.0 C0\n",
    "ComputerSecurity 3.0 D+\n",
    "Database 3.0 C+\n",
    "Algorithm 3.0 B0\n",
    "CapstoneDesigninCSE 3.0 B+\n",
    "CompilerDesign 3.0 D0\n",
    "ProblemSolving 4.0 P\n",
    "'''"
   ]
  },
  {
   "cell_type": "code",
   "execution_count": null,
   "metadata": {},
   "outputs": [
    {
     "data": {
      "text/plain": [
       "{'A+': 4.5,\n",
       " 'A0': 4.0,\n",
       " 'B+': 3.5,\n",
       " 'B0': 3.0,\n",
       " 'C+': 2.5,\n",
       " 'C0': 2.0,\n",
       " 'D+': 1.5,\n",
       " 'D0': 1.0,\n",
       " 'F': 0,\n",
       " 'P': -1}"
      ]
     },
     "execution_count": 58,
     "metadata": {},
     "output_type": "execute_result"
    }
   ],
   "source": [
    "keys = 'A+,A0,B+,B0,C+,C0,D+,D0,F,P'.split(',')\n",
    "vals = [4.5,4.0,3.5,3.0,2.5,2.0,1.5,1.0,0,-1]\n",
    "grade_map = dict(zip(keys,vals))\n",
    "grade_map"
   ]
  },
  {
   "cell_type": "code",
   "execution_count": null,
   "metadata": {},
   "outputs": [
    {
     "name": "stdout",
     "output_type": "stream",
     "text": [
      "3.284483\n"
     ]
    }
   ],
   "source": [
    "cum_size,cum_score =0.0,0.0\n",
    "for line in scores.split('\\n'):\n",
    "    if line == '':               #line:DataStructure 4.0 A+\n",
    "        continue\n",
    "    size = float( line.split()[1])\n",
    "    grade = line.split()[2]\n",
    "    if (grade == 'P'):         # 학점이 p인 과목은 계산에서 제외\n",
    "        continue\n",
    "    cum_size += size\n",
    "    cum_score += grade_map[grade]  * size\n",
    "\n",
    "print(round(cum_score/cum_size,6))\n",
    "\n"
   ]
  },
  {
   "cell_type": "code",
   "execution_count": null,
   "metadata": {},
   "outputs": [],
   "source": []
  }
 ],
 "metadata": {
  "kernelspec": {
   "display_name": "base",
   "language": "python",
   "name": "python3"
  },
  "language_info": {
   "codemirror_mode": {
    "name": "ipython",
    "version": 3
   },
   "file_extension": ".py",
   "mimetype": "text/x-python",
   "name": "python",
   "nbconvert_exporter": "python",
   "pygments_lexer": "ipython3",
   "version": "3.10.10"
  },
  "orig_nbformat": 4
 },
 "nbformat": 4,
 "nbformat_minor": 2
}
