{
 "cells": [
  {
   "cell_type": "code",
   "execution_count": 4,
   "metadata": {},
   "outputs": [
    {
     "data": {
      "text/plain": [
       "(11, 55, 99)"
      ]
     },
     "execution_count": 4,
     "metadata": {},
     "output_type": "execute_result"
    }
   ],
   "source": [
    "a = (11, 22, 33, 44, 55, 66, 77, 88, 99)\n",
    "a[::4]"
   ]
  },
  {
   "cell_type": "code",
   "execution_count": 12,
   "metadata": {},
   "outputs": [
    {
     "name": "stdout",
     "output_type": "stream",
     "text": [
      "('oven', 'bat', 'pony', 'total', 'leak', 'wreck', 'curl')\n"
     ]
    }
   ],
   "source": [
    "x = input().split() \n",
    "x = x[:-5] \n",
    "print(tuple(x))"
   ]
  },
  {
   "cell_type": "code",
   "execution_count": 22,
   "metadata": {},
   "outputs": [
    {
     "name": "stdout",
     "output_type": "stream",
     "text": [
      "yhnpto\n"
     ]
    }
   ],
   "source": [
    "a= input()\n",
    "b= input()\n",
    "print(a[1::2] + b[::2])"
   ]
  },
  {
   "cell_type": "code",
   "execution_count": 2,
   "metadata": {},
   "outputs": [
    {
     "name": "stdout",
     "output_type": "stream",
     "text": [
      "{'a': 5555.0}\n"
     ]
    }
   ],
   "source": [
    "keys = list(input().split())\n",
    "values = list(map(float, input().split()))\n",
    "result = dict(zip(keys, values))\n",
    "print(result)\n"
   ]
  },
  {
   "cell_type": "code",
   "execution_count": 3,
   "metadata": {},
   "outputs": [
    {
     "data": {
      "text/plain": [
       "[('a', 5555.0)]"
      ]
     },
     "execution_count": 3,
     "metadata": {},
     "output_type": "execute_result"
    }
   ],
   "source": [
    "list(zip(keys,values))"
   ]
  },
  {
   "cell_type": "code",
   "execution_count": null,
   "metadata": {},
   "outputs": [],
   "source": [
    "e = dict()"
   ]
  },
  {
   "cell_type": "code",
   "execution_count": 29,
   "metadata": {},
   "outputs": [
    {
     "name": "stdout",
     "output_type": "stream",
     "text": [
      "9 * 1 = 9\n",
      "9 * 2 = 18\n",
      "9 * 3 = 27\n",
      "9 * 4 = 36\n",
      "9 * 5 = 45\n",
      "9 * 6 = 54\n",
      "9 * 7 = 63\n",
      "9 * 8 = 72\n",
      "9 * 9 = 81\n"
     ]
    }
   ],
   "source": [
    "# 17.1 코딩도장\n",
    "num = int(input())\n",
    "for i in range(1, 10):\n",
    "    print(f\"{num} * {i} = {num * i}\")\n",
    "\n"
   ]
  },
  {
   "cell_type": "code",
   "execution_count": 37,
   "metadata": {},
   "outputs": [
    {
     "name": "stdout",
     "output_type": "stream",
     "text": [
      "12150\n",
      "10800\n",
      "9450\n",
      "8100\n",
      "6750\n",
      "5400\n",
      "4050\n",
      "2700\n",
      "1350\n",
      "0\n"
     ]
    }
   ],
   "source": [
    "money = int(input())\n",
    "while money >= 0:\n",
    "    print(money)\n",
    "    money -= 1350"
   ]
  },
  {
   "cell_type": "code",
   "execution_count": 4,
   "metadata": {},
   "outputs": [
    {
     "name": "stdout",
     "output_type": "stream",
     "text": [
      "8 9 10 11 12 14 15 16 17 18 19 20 21 22 24 25 "
     ]
    }
   ],
   "source": [
    "start, stop = map(int, input().split())\n",
    "i = start\n",
    "while True:\n",
    "    if i > stop:\n",
    "        break\n",
    "    if i % 10 == 3:\n",
    "        i += 1\n",
    "        continue\n",
    "    else:\n",
    "        print(i, end=' ')\n",
    "        i += 1\n"
   ]
  },
  {
   "cell_type": "code",
   "execution_count": 5,
   "metadata": {},
   "outputs": [
    {
     "name": "stdout",
     "output_type": "stream",
     "text": [
      "8 9 10 11 12 14 15 16 17 18 19 20 21 22 24 25 "
     ]
    }
   ],
   "source": [
    "start, stop = 8,25\n",
    "for i in range(start,stop+1):\n",
    "    if i % 10 ==3:\n",
    "        continue\n",
    "    print(i, end=' ')"
   ]
  },
  {
   "cell_type": "code",
   "execution_count": null,
   "metadata": {},
   "outputs": [],
   "source": []
  }
 ],
 "metadata": {
  "kernelspec": {
   "display_name": "base",
   "language": "python",
   "name": "python3"
  },
  "language_info": {
   "codemirror_mode": {
    "name": "ipython",
    "version": 3
   },
   "file_extension": ".py",
   "mimetype": "text/x-python",
   "name": "python",
   "nbconvert_exporter": "python",
   "pygments_lexer": "ipython3",
   "version": "3.10.9"
  },
  "orig_nbformat": 4,
  "vscode": {
   "interpreter": {
    "hash": "9ad9f9c592abbba12f5149783f85538b4c5669fc68fed8dcce4ba0e7c6bb3d74"
   }
  }
 },
 "nbformat": 4,
 "nbformat_minor": 2
}
