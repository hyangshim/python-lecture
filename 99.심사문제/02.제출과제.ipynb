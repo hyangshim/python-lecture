{
 "cells": [
  {
   "attachments": {},
   "cell_type": "markdown",
   "metadata": {},
   "source": [
    "### 1. 백준도장 2884번 알람 시계"
   ]
  },
  {
   "cell_type": "code",
   "execution_count": 13,
   "metadata": {},
   "outputs": [
    {
     "name": "stdout",
     "output_type": "stream",
     "text": [
      "22 55\n"
     ]
    }
   ],
   "source": [
    "def time():\n",
    "    hour = int(input('시간 입력 > '))\n",
    "    minut = int(input('분 입력 > '))\n",
    "    if minut < 45 and hour == 1:\n",
    "        resTag = f\"{12} {minut + 15}\"\n",
    "    elif minut < 45:\n",
    "        resTag = f\"{hour - 1} {minut + 15}\"\n",
    "    else:\n",
    "        resTag = f\"{hour} {minut - 45}\"\n",
    "    \n",
    "    return resTag\n",
    "result = time()\n",
    "print(result)"
   ]
  },
  {
   "attachments": {},
   "cell_type": "markdown",
   "metadata": {},
   "source": [
    "### 2. 백준도장 2480번 주사위 문제\n",
    "\n",
    "단, 주사위 3개의 눈은 입력을 통해서 받지 말고, 랜덤 넘버로 만들 것"
   ]
  },
  {
   "cell_type": "code",
   "execution_count": 15,
   "metadata": {},
   "outputs": [
    {
     "name": "stdout",
     "output_type": "stream",
     "text": [
      "6, 2, 2, 1200;\n"
     ]
    }
   ],
   "source": [
    "import random\n",
    "\n",
    "def drawing():\n",
    "    dice1 = random.randint(1, 6)\n",
    "    dice2 = random.randint(1, 6)\n",
    "    dice3 = random.randint(1, 6)\n",
    "    drawing = 0\n",
    "\n",
    "    if dice1 == dice2 == dice3:\n",
    "        drawing = (dice1 * 1000 + 10000)\n",
    "    elif dice1 == dice2:\n",
    "        drawing = (dice1 * 100 + 1000)\n",
    "    elif dice2 == dice3:\n",
    "        drawing = (dice2 * 100 + 1000)\n",
    "    elif dice1 == dice3:\n",
    "        drawing = (dice1 * 100 + 1000)\n",
    "    else:\n",
    "        drawing = (max(dice1, dice2, dice3) * 100)\n",
    "\n",
    "    print(f\"{dice1}, {dice2}, {dice3}, {drawing};\")\n",
    "drawing()\n"
   ]
  },
  {
   "cell_type": "code",
   "execution_count": null,
   "metadata": {},
   "outputs": [],
   "source": []
  }
 ],
 "metadata": {
  "kernelspec": {
   "display_name": "base",
   "language": "python",
   "name": "python3"
  },
  "language_info": {
   "codemirror_mode": {
    "name": "ipython",
    "version": 3
   },
   "file_extension": ".py",
   "mimetype": "text/x-python",
   "name": "python",
   "nbconvert_exporter": "python",
   "pygments_lexer": "ipython3",
   "version": "3.10.9"
  },
  "orig_nbformat": 4,
  "vscode": {
   "interpreter": {
    "hash": "9ad9f9c592abbba12f5149783f85538b4c5669fc68fed8dcce4ba0e7c6bb3d74"
   }
  }
 },
 "nbformat": 4,
 "nbformat_minor": 2
}
