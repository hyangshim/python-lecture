{
 "cells": [
  {
   "cell_type": "code",
   "execution_count": 1,
   "metadata": {},
   "outputs": [
    {
     "name": "stdout",
     "output_type": "stream",
     "text": [
      "True\n"
     ]
    }
   ],
   "source": [
    "korean,english,mathematics,science=map(int,input().split())\n",
    "if (korean >= 90) and (english > 80) and (mathematics > 85) and (science >= 80):\n",
    "    print(\"True\")\n",
    "else:\n",
    "    print(\"False\")"
   ]
  },
  {
   "cell_type": "code",
   "execution_count": null,
   "metadata": {},
   "outputs": [],
   "source": [
    "step = int(input())\n",
    "a = tuple(range(-10,10,step))\n",
    "print(a)"
   ]
  },
  {
   "cell_type": "code",
   "execution_count": 7,
   "metadata": {},
   "outputs": [
    {
     "name": "stdout",
     "output_type": "stream",
     "text": [
      "-3000\n"
     ]
    }
   ],
   "source": [
    "price = int(input())\n",
    "coupon = input()\n",
    "if coupon == 'Cash3000':\n",
    "       sum = price - 3000 # price -= 3000\n",
    "elif coupon == 'Cash5000':\n",
    "       sum = price - 5000 # price -= 5000\n",
    "print(sum)\n"
   ]
  },
  {
   "cell_type": "code",
   "execution_count": 10,
   "metadata": {},
   "outputs": [
    {
     "name": "stdout",
     "output_type": "stream",
     "text": [
      "x에 들어있는 값은\n",
      "10 이상입니다.\n"
     ]
    }
   ],
   "source": [
    "if a >= 10:\n",
    "    print('x에 들어있는 값은') \n",
    "    print('10 이상입니다.')\n",
    "else:\n",
    "     print('x에 들어있는 값은')\n",
    "     print('10 미만입니다.')"
   ]
  },
  {
   "cell_type": "code",
   "execution_count": 11,
   "metadata": {},
   "outputs": [
    {
     "name": "stdout",
     "output_type": "stream",
     "text": [
      "True\n"
     ]
    }
   ],
   "source": [
    "if not '':\n",
    "    print(True)\n",
    "else:\n",
    "    print(False)"
   ]
  },
  {
   "cell_type": "code",
   "execution_count": 12,
   "metadata": {},
   "outputs": [
    {
     "name": "stdout",
     "output_type": "stream",
     "text": [
      "홀수\n"
     ]
    }
   ],
   "source": [
    "x = 5\n",
    " \n",
    "if x % 2 == 0:\n",
    "    print('짝수')\n",
    "else:\n",
    "    print('홀수')"
   ]
  },
  {
   "cell_type": "code",
   "execution_count": null,
   "metadata": {},
   "outputs": [],
   "source": [
    "\n",
    "a,b,c,b=map(int,input().split())\n",
    "if (a+b+c+b)/4 >= 80:\n",
    "    grade = '합격'\n",
    "elif (a+b+c+b)/4 <80:\n",
    "    grade ='불합격'\n",
    "elif score >=70:\n",
    "    grade ='c'\n",
    "elif score >=60:\n",
    "    grade ='D'\n",
    "else:\n",
    "    grade ='F'\n",
    "print(score,grade)"
   ]
  },
  {
   "cell_type": "code",
   "execution_count": 2,
   "metadata": {},
   "outputs": [
    {
     "name": "stdout",
     "output_type": "stream",
     "text": [
      "잘못된 점수\n"
     ]
    }
   ],
   "source": [
    "k, m, e, s = map(int, input().split())\n",
    "scores = [k, m, e, s]\n",
    "if any(score < 0 or score > 100 for score in scores):\n",
    "    print('잘못된 점수')\n",
    "else:\n",
    "    average = sum(scores) / len(scores)\n",
    "    if average >= 80:\n",
    "        print('합격')\n",
    "    else:\n",
    "        print('불합격')"
   ]
  },
  {
   "cell_type": "code",
   "execution_count": 10,
   "metadata": {},
   "outputs": [
    {
     "ename": "NameError",
     "evalue": "name 'avg' is not defined",
     "output_type": "error",
     "traceback": [
      "\u001b[1;31m---------------------------------------------------------------------------\u001b[0m",
      "\u001b[1;31mNameError\u001b[0m                                 Traceback (most recent call last)",
      "Cell \u001b[1;32mIn[10], line 7\u001b[0m\n\u001b[0;32m      5\u001b[0m \u001b[39melse\u001b[39;00m:\n\u001b[0;32m      6\u001b[0m     avg : \u001b[39msum\u001b[39m(scores) \u001b[39m/\u001b[39m \u001b[39mlen\u001b[39m(scores)\n\u001b[1;32m----> 7\u001b[0m     \u001b[39mif\u001b[39;00m avg \u001b[39m>\u001b[39m\u001b[39m=\u001b[39m \u001b[39m80\u001b[39m:\n\u001b[0;32m      8\u001b[0m         \u001b[39mprint\u001b[39m(\u001b[39m'\u001b[39m\u001b[39m합격\u001b[39m\u001b[39m'\u001b[39m)\n\u001b[0;32m      9\u001b[0m     \u001b[39melse\u001b[39;00m:\n",
      "\u001b[1;31mNameError\u001b[0m: name 'avg' is not defined"
     ]
    }
   ],
   "source": [
    "# 리스트를 사용해서 개선된 코드\n",
    "scores=list(map(int, input().split()))\n",
    "if min(scores) < 0 or max(scores) > 100:\n",
    "    print('잘못된 점수')\n",
    "else:\n",
    "    avg : sum(scores) / len(scores)\n",
    "    if avg >= 80:\n",
    "        print('합격')\n",
    "    else:\n",
    "        print('불합격')"
   ]
  },
  {
   "cell_type": "code",
   "execution_count": 6,
   "metadata": {},
   "outputs": [
    {
     "name": "stdout",
     "output_type": "stream",
     "text": [
      "11~20\n"
     ]
    }
   ],
   "source": [
    "x= int(input('정수입력 >'))\n",
    "if x >= 11 and x <= 20:\n",
    "    print('11~20')\n",
    "elif x >= 21 and x <= 30:\n",
    "    print('21-30')\n",
    "else:\n",
    "    print('아무것도 해당하지 않음')"
   ]
  },
  {
   "cell_type": "code",
   "execution_count": 3,
   "metadata": {},
   "outputs": [
    {
     "name": "stdout",
     "output_type": "stream",
     "text": [
      "8350\n"
     ]
    }
   ],
   "source": [
    "age = int(input())\n",
    "balance = 9000 \n",
    "if age >=7 and age<=12:\n",
    "    balance= balance - 650\n",
    "    print(balance)\n",
    "elif  age >=13 and age<=18:\n",
    "    balance= balance - 1050\n",
    "    print(balance)\n",
    "else:\n",
    "    balance= balance -1250\n",
    "    print(balance)"
   ]
  },
  {
   "cell_type": "code",
   "execution_count": 12,
   "metadata": {},
   "outputs": [
    {
     "name": "stdout",
     "output_type": "stream",
     "text": [
      "19살의 요금은 1,250원이고,잔액은 1,250원입니다.\n"
     ]
    }
   ],
   "source": [
    "age = int(input())\n",
    "balance = 9000 \n",
    "\n",
    "if 7 <=age <=12:\n",
    "    fare = 650\n",
    "elif 13<=age <=18:\n",
    "    fare =1050\n",
    "elif age >=19:\n",
    "    fare =1250\n",
    "else:\n",
    "    fare =0\n",
    "balance = fare\n",
    "print(f'{age}살의 요금은 {fare:,d}원이고,잔액은 {balance:,d}원입니다.')"
   ]
  },
  {
   "cell_type": "code",
   "execution_count": null,
   "metadata": {},
   "outputs": [],
   "source": []
  }
 ],
 "metadata": {
  "kernelspec": {
   "display_name": "base",
   "language": "python",
   "name": "python3"
  },
  "language_info": {
   "codemirror_mode": {
    "name": "ipython",
    "version": 3
   },
   "file_extension": ".py",
   "mimetype": "text/x-python",
   "name": "python",
   "nbconvert_exporter": "python",
   "pygments_lexer": "ipython3",
   "version": "3.10.9"
  },
  "orig_nbformat": 4,
  "vscode": {
   "interpreter": {
    "hash": "9ad9f9c592abbba12f5149783f85538b4c5669fc68fed8dcce4ba0e7c6bb3d74"
   }
  }
 },
 "nbformat": 4,
 "nbformat_minor": 2
}
