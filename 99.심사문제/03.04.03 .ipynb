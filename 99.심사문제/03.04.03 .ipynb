{
 "cells": [
  {
   "attachments": {},
   "cell_type": "markdown",
   "metadata": {},
   "source": [
    "#### 22.10 \n",
    "표준 입력으로 정수 두 개가 입력됩니다(첫 번째 입력 값의 범위는 1~20, 두 번째 입력 값의 범위는 10~30이며 첫 번째 입력 값은 두 번째 입력 값보다 항상 작습니다). 첫 번째 정수부터 두 번째 정수까지를 지수로 하는 2의 거듭제곱 리스트를 출력하는 프로그램을 만드세요(input에서 안내 문자열은 출력하지 않아야 합니다). 단, 리스트의 두 번째 요소와 뒤에서 두 번째 요소는 삭제한 뒤 출력하세요. 출력 결과는 리스트 형태라야 합니다."
   ]
  },
  {
   "cell_type": "code",
   "execution_count": 8,
   "metadata": {},
   "outputs": [
    {
     "name": "stdout",
     "output_type": "stream",
     "text": [
      "[2, 8, 16, 32, 64, 128, 256, 512, 1024, 4096]\n"
     ]
    }
   ],
   "source": [
    "start, stop = map(int, input().split())\n",
    "power_of_2 = [2**i for i in range(start, stop+1)]\n",
    "del power_of_2[1]\n",
    "del power_of_2[-2]\n",
    "print(power_of_2)"
   ]
  },
  {
   "cell_type": "code",
   "execution_count": 9,
   "metadata": {},
   "outputs": [],
   "source": [
    "m,n = map(int, input().split())\n",
    "if 1<m<=20 and 10<=n<=30 and m<n:\n",
    "    power_list = []\n",
    "    for i in range(m,n+1):\n",
    "        power_list.append(2**i)\n",
    "    del power_list[1],power_list[-2]\n",
    "    print(power_list)"
   ]
  },
  {
   "cell_type": "code",
   "execution_count": 10,
   "metadata": {},
   "outputs": [],
   "source": [
    "m,n = map(int, input().split())\n",
    "if 1<m<=20 and 10<=n<=30 and m<n:\n",
    "    power_list =[2**i for i in range(m,n+1)]\n",
    "    del power_list[1],power_list[-2]\n",
    "    print(power_list)"
   ]
  },
  {
   "cell_type": "code",
   "execution_count": 11,
   "metadata": {},
   "outputs": [
    {
     "data": {
      "text/plain": [
       "[10, 20, 30, 40]"
      ]
     },
     "execution_count": 11,
     "metadata": {},
     "output_type": "execute_result"
    }
   ],
   "source": [
    "a = [10, 20, 30, 40]\n",
    "a"
   ]
  },
  {
   "cell_type": "code",
   "execution_count": 12,
   "metadata": {},
   "outputs": [
    {
     "name": "stdout",
     "output_type": "stream",
     "text": [
      "10 \n",
      "30 \n",
      "50 \n"
     ]
    }
   ],
   "source": [
    "a = [[10, 20], [30, 40], [50, 60]]\n",
    " \n",
    "i = 0\n",
    "while i < len(a):\n",
    "    j = 0\n",
    "                        \n",
    "    print(a[i][j], end=' ')\n",
    "    j += 1\n",
    "    print()\n",
    "    i+= 1"
   ]
  },
  {
   "cell_type": "code",
   "execution_count": 13,
   "metadata": {},
   "outputs": [
    {
     "name": "stdout",
     "output_type": "stream",
     "text": [
      "python.exe\n"
     ]
    }
   ],
   "source": [
    "path = 'C:\\\\Users\\\\dojang\\\\AppData\\\\Local\\\\Programs\\\\Python\\\\Python36-32\\\\python.exe'\n",
    "filename = path[path.rfind('\\\\') + 1:]\n",
    "print(filename)"
   ]
  },
  {
   "attachments": {},
   "cell_type": "markdown",
   "metadata": {},
   "source": [
    "#### 23.7 지뢰찾기"
   ]
  },
  {
   "cell_type": "code",
   "execution_count": 60,
   "metadata": {},
   "outputs": [],
   "source": [
    "def print_mines(m):\n",
    "    for row in m :\n",
    "        for element in row:\n",
    "            print(element,end=' ')\n",
    "        print()"
   ]
  },
  {
   "cell_type": "code",
   "execution_count": 61,
   "metadata": {},
   "outputs": [
    {
     "name": "stdout",
     "output_type": "stream",
     "text": [
      ". . . * . . . . . * \n",
      "* * * . . . * * . . \n",
      ". * * . * * . . . . \n",
      ". * . * . * . . * . \n",
      ". * . . . . * . . . \n",
      ". * * . . . . . . . \n"
     ]
    }
   ],
   "source": [
    "import random\n",
    "row,col =map(int,input().split())\n",
    "mines =[['*' if random.random() > 0.7 else '.' for _ in range(col)]for _ in range (row)]\n",
    "print_mines(mines)"
   ]
  },
  {
   "cell_type": "code",
   "execution_count": 53,
   "metadata": {},
   "outputs": [
    {
     "name": "stdout",
     "output_type": "stream",
     "text": [
      ". . . . . . . . . . . . \n",
      ". * * * . . . * . . . . \n",
      ". . . . . . . * * . * . \n",
      ". . . . . * . . * . . . \n",
      ". * . . * . . * . * * . \n",
      ". . . . * . . . . . . . \n",
      ". . * . . . * . * . * . \n",
      ". . . . . . . . . . . . \n"
     ]
    }
   ],
   "source": [
    "pad_mines =[['.']*(col + 2)]             # 맨 윗줄\n",
    "for pad_row in mines:\n",
    "    line =['.']                        # 맨 윗줄과 아랫줄을 제외한 줄\n",
    "    \"\"\"for element in pad_row:\n",
    "        line.append(element) \"\"\"\n",
    "    line.extend(pad_row)\n",
    "    line.append('.')\n",
    "    pad_mines.append(line)\n",
    "pad_mines.append(['.']*(col + 2))\n",
    "print_mines(pad_mines)"
   ]
  },
  {
   "cell_type": "code",
   "execution_count": 62,
   "metadata": {},
   "outputs": [
    {
     "name": "stdout",
     "output_type": "stream",
     "text": [
      "* * * 1 0 2 * 3 2 1 \n",
      "2 3 2 2 1 3 * * 3 * \n",
      "1 1 1 2 * 3 4 * 5 3 \n",
      "* 1 2 * 3 2 * 3 * * \n",
      "2 2 3 * 3 2 3 3 4 3 \n",
      "1 * 2 1 2 * 2 * 2 * \n"
     ]
    }
   ],
   "source": [
    "final_mines =[]\n",
    "for i in range(1,row+1):\n",
    "    line = []\n",
    "    for k in range(1,col+1):\n",
    "        if pad_mines[i][k] =='*':\n",
    "            line.append('*')\n",
    "        else:\n",
    "            count = (pad_mines[i-1][k-1]=='*')+ (pad_mines[i-1][k]=='*')+(pad_mines[i-1][k+1]=='*')+\\\n",
    "                    (pad_mines[i][k-1]=='*')                        +(pad_mines[i][k+1]=='*')+\\\n",
    "                    (pad_mines[i+1][k-1]=='*')+(pad_mines[i+1][k]=='*')+(pad_mines[i+1][k+1]=='*')\n",
    "            line.append(str(count))\n",
    "    final_mines.append(line)\n",
    "\n",
    "print_mines(final_mines)"
   ]
  },
  {
   "attachments": {},
   "cell_type": "markdown",
   "metadata": {},
   "source": [
    "#### 24.5\n",
    "표준 입력으로 문자열이 입력됩니다. 입력된 문자열에서 'the'의 개수를 출력하는 프로그램을 만드세요(input에서 안내 문자열은 출력하지 않아야 합니다). 단, 모든 문자가 소문자인 'the'만 찾으면 되며 'them', 'there', 'their' 등은 포함하지 않아야 합니다."
   ]
  },
  {
   "cell_type": "markdown",
   "metadata": {},
   "source": [
    "\"\"\"\n",
    "the grown-ups' response, this time, was to advise me to lay aside my drawings of\n",
    "boa constrictors, whether from the inside or the outside, and devote myself instead \n",
    "to geography, history, arithmetic, and grammar. That is why, at the, age of six, \n",
    "I gave up what might have been a magnificent career as a painter. \n",
    "I had been disheartened by the failure of my Drawing Number One and my Drawing\n",
    "Number Two. Grown-ups never understand anything by themselves, and it is tiresome \n",
    "children to be always and forever explaining things to the.\n",
    "\n",
    "\"\"\""
   ]
  },
  {
   "cell_type": "code",
   "execution_count": 14,
   "metadata": {},
   "outputs": [
    {
     "name": "stdout",
     "output_type": "stream",
     "text": [
      "1\n"
     ]
    }
   ],
   "source": [
    "paragraph = input()\n",
    "words =paragraph.split()\n",
    "count=0\n",
    "for word in words:\n",
    "    if word.strip(',.') == 'the':\n",
    "        count += 1\n",
    "print(count)"
   ]
  },
  {
   "cell_type": "code",
   "execution_count": 15,
   "metadata": {},
   "outputs": [
    {
     "ename": "NameError",
     "evalue": "name 'text' is not defined",
     "output_type": "error",
     "traceback": [
      "\u001b[1;31m---------------------------------------------------------------------------\u001b[0m",
      "\u001b[1;31mNameError\u001b[0m                                 Traceback (most recent call last)",
      "Cell \u001b[1;32mIn[15], line 1\u001b[0m\n\u001b[1;32m----> 1\u001b[0m text_list \u001b[39m=\u001b[39m text\u001b[39m.\u001b[39msplit()\n\u001b[0;32m      2\u001b[0m count_the \u001b[39m=\u001b[39m\u001b[39m0\u001b[39m\n\u001b[0;32m      3\u001b[0m \u001b[39mfor\u001b[39;00m word \u001b[39min\u001b[39;00m text_list:\n",
      "\u001b[1;31mNameError\u001b[0m: name 'text' is not defined"
     ]
    }
   ],
   "source": [
    "text_list = text.split()\n",
    "count_the =0\n",
    "for word in text_list:\n",
    "    word=word.strip(\"',.\").lower()\n",
    "    if word == 'the':\n",
    "        count_the +=1\n",
    "print(count_the)"
   ]
  },
  {
   "attachments": {},
   "cell_type": "markdown",
   "metadata": {},
   "source": [
    "##### 25.6\n",
    "표준 입력으로 물품 가격 여러 개가 문자열 한 줄로 입력되고, 각 가격은 ;(세미콜론)으로 구분되어 있습니다. 입력된 가격을 높은 가격순으로 출력하는 프로그램을 만드세요(input에서 안내 문자열은 출력하지 않아야 합니다). 이때 가격은 길이를 9로 만든 뒤 오른쪽으로 정렬하고 천단위로 ,(콤마)를 넣으세요."
   ]
  },
  {
   "cell_type": "code",
   "execution_count": null,
   "metadata": {},
   "outputs": [
    {
     "name": "stdout",
     "output_type": "stream",
     "text": [
      "1,304,000\n",
      "  367,500\n",
      "  250,000\n",
      "  158,000\n",
      "  128,500\n",
      "   83,000\n",
      "   59,200\n",
      "   51,900\n"
     ]
    }
   ],
   "source": [
    "prices = input().split(';')\n",
    "prices = list(map(int, prices))\n",
    "prices.sort(reverse=True)\n",
    "\n",
    "for price in prices:\n",
    "    price_str = f'{price:,}'.rjust(9)\n",
    "    print(price_str)\n"
   ]
  },
  {
   "cell_type": "code",
   "execution_count": null,
   "metadata": {},
   "outputs": [
    {
     "ename": "ValueError",
     "evalue": "invalid literal for int() with base 10: '130400001.30일 과제.ipynb'",
     "output_type": "error",
     "traceback": [
      "\u001b[1;31m---------------------------------------------------------------------------\u001b[0m",
      "\u001b[1;31mValueError\u001b[0m                                Traceback (most recent call last)",
      "Cell \u001b[1;32mIn[5], line 2\u001b[0m\n\u001b[0;32m      1\u001b[0m input_str \u001b[39m=\u001b[39m\u001b[39m'\u001b[39m\u001b[39m51900;83000;158000;367500;250000;59200;128500;1304000\u001b[39m\u001b[39m'\u001b[39m\u001b[39m\"\u001b[39m\u001b[39m01.30일 과제.ipynb\u001b[39m\u001b[39m\"\u001b[39m\n\u001b[1;32m----> 2\u001b[0m price_list \u001b[39m=\u001b[39m\u001b[39mlist\u001b[39;49m(\u001b[39mmap\u001b[39;49m(\u001b[39mint\u001b[39;49m, input_str\u001b[39m.\u001b[39;49msplit(\u001b[39m'\u001b[39;49m\u001b[39m;\u001b[39;49m\u001b[39m'\u001b[39;49m)))\n\u001b[0;32m      3\u001b[0m price_listi\n",
      "\u001b[1;31mValueError\u001b[0m: invalid literal for int() with base 10: '130400001.30일 과제.ipynb'"
     ]
    }
   ],
   "source": [
    "input_str ='51900;83000;158000;367500;250000;59200;128500;1304000'\"01.30일 과제.ipynb\"\n",
    "price_list =list(map(int, input_str.split(';')))\n",
    "price_listi"
   ]
  },
  {
   "cell_type": "code",
   "execution_count": null,
   "metadata": {},
   "outputs": [
    {
     "ename": "NameError",
     "evalue": "name 'price_list' is not defined",
     "output_type": "error",
     "traceback": [
      "\u001b[1;31m---------------------------------------------------------------------------\u001b[0m",
      "\u001b[1;31mNameError\u001b[0m                                 Traceback (most recent call last)",
      "Cell \u001b[1;32mIn[6], line 1\u001b[0m\n\u001b[1;32m----> 1\u001b[0m price_list\u001b[39m.\u001b[39msort(reverse\u001b[39m=\u001b[39m\u001b[39mTrue\u001b[39;00m)\n",
      "\u001b[1;31mNameError\u001b[0m: name 'price_list' is not defined"
     ]
    }
   ],
   "source": [
    "price_list.sort(reverse=True)             # 내림차순 (descending order)정렬\n",
    "price_list\n",
    "for price in price_list:\n",
    "    print(f'{price:9,d}')"
   ]
  },
  {
   "attachments": {},
   "cell_type": "markdown",
   "metadata": {},
   "source": [
    "##### 25.7\n",
    "표준 입력으로 문자열 여러 개와 숫자 여러 개가 두 줄로 입력되고, 첫 번째 줄은 키, 두 번째 줄은 값으로 하여 딕셔너리를 생성합니다. 다음 코드를 완성하여 딕셔너리에서 키가 'delta'인 키-값 쌍과 값이 30인 키-값 쌍을 삭제하도록 만드세요."
   ]
  },
  {
   "cell_type": "code",
   "execution_count": null,
   "metadata": {},
   "outputs": [
    {
     "name": "stdout",
     "output_type": "stream",
     "text": [
      "{'alpha': 10, 'bravo': 20}\n"
     ]
    }
   ],
   "source": [
    "keys = input().split()\n",
    "values = map(int, input().split())\n",
    "x = dict(zip(keys, values))\n",
    "del x ['delta']\n",
    "x={key:value for key,value in x.items() if value != 30}\n",
    "\n",
    "print(x)"
   ]
  },
  {
   "attachments": {},
   "cell_type": "markdown",
   "metadata": {},
   "source": [
    "##### 26.9 표준 입력으로 양의 정수 두 개가 입력됩니다. 다음 소스 코드를 완성하여 두 숫자의 공약수를 세트 형태로 구하도록 만드세요. 단, 최종 결과는 공약수의 합으로 판단합니다."
   ]
  },
  {
   "cell_type": "code",
   "execution_count": 20,
   "metadata": {},
   "outputs": [
    {
     "data": {
      "text/plain": [
       "{1, 2, 5, 10}"
      ]
     },
     "execution_count": 20,
     "metadata": {},
     "output_type": "execute_result"
    }
   ],
   "source": [
    "# 약수의 집합\n",
    "div_set =set()\n",
    "x =10\n",
    "for i in range(1,x+1):\n",
    "    if x % i==0:\n",
    "        div_set.add(i)\n",
    "div_set\n"
   ]
  },
  {
   "cell_type": "code",
   "execution_count": 19,
   "metadata": {},
   "outputs": [
    {
     "data": {
      "text/plain": [
       "[1, 2, 5, 10]"
      ]
     },
     "execution_count": 19,
     "metadata": {},
     "output_type": "execute_result"
    }
   ],
   "source": [
    "div_set = [i for i in range(1,x+1) if x % i==0]\n",
    "div_set"
   ]
  },
  {
   "cell_type": "code",
   "execution_count": 22,
   "metadata": {},
   "outputs": [
    {
     "name": "stdout",
     "output_type": "stream",
     "text": [
      "{1, 2, 3, 4, 6, 12} {1, 2, 4, 5, 10, 20}\n"
     ]
    }
   ],
   "source": [
    "m,n =map(int,input().split())\n",
    "m_set ={i for i in range(1,m+1) if m % i==0}\n",
    "n_set ={i for i in range(1,n+1) if n % i==0}\n",
    "print(m_set,n_set)"
   ]
  },
  {
   "cell_type": "code",
   "execution_count": 23,
   "metadata": {},
   "outputs": [
    {
     "data": {
      "text/plain": [
       "{1, 2, 4}"
      ]
     },
     "execution_count": 23,
     "metadata": {},
     "output_type": "execute_result"
    }
   ],
   "source": [
    "common_divisors = m_set & n_set  # 교집합\n",
    "common_divisors"
   ]
  },
  {
   "cell_type": "code",
   "execution_count": 24,
   "metadata": {},
   "outputs": [
    {
     "data": {
      "text/plain": [
       "7"
      ]
     },
     "execution_count": 24,
     "metadata": {},
     "output_type": "execute_result"
    }
   ],
   "source": [
    "sum(common_divisors)"
   ]
  },
  {
   "cell_type": "code",
   "execution_count": 31,
   "metadata": {},
   "outputs": [
    {
     "name": "stdout",
     "output_type": "stream",
     "text": [
      "18\n"
     ]
    }
   ],
   "source": [
    "num1,num2 = set(map(int, input().split()))\n",
    "a = {i for i in range(1, num1 + 1) if num1 % i == 0}\n",
    "b = {i for i in range(1, num2 + 1) if num2 % i == 0}\n",
    "divisor = a & b\n",
    " \n",
    "result = 0\n",
    "if type(divisor) == set:\n",
    "    result = sum(divisor)\n",
    " \n",
    "print(result)\n"
   ]
  },
  {
   "cell_type": "code",
   "execution_count": null,
   "metadata": {},
   "outputs": [],
   "source": []
  }
 ],
 "metadata": {
  "kernelspec": {
   "display_name": "base",
   "language": "python",
   "name": "python3"
  },
  "language_info": {
   "codemirror_mode": {
    "name": "ipython",
    "version": 3
   },
   "file_extension": ".py",
   "mimetype": "text/x-python",
   "name": "python",
   "nbconvert_exporter": "python",
   "pygments_lexer": "ipython3",
   "version": "3.10.10"
  },
  "orig_nbformat": 4
 },
 "nbformat": 4,
 "nbformat_minor": 2
}
