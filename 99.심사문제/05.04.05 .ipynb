{
 "cells": [
  {
   "attachments": {},
   "cell_type": "markdown",
   "metadata": {},
   "source": [
    "#### 27.5\n",
    "문자열이 저장된 words.txt 파일이 주어집니다(문자열은 한 줄로 저장되어 있습니다). words.txt 파일에서 문자 c가 포함된 단어를 각 줄에 출력하는 프로그램을 만드세요. 단어를 출력할 때는 등장한 순서대로 출력해야 하며 ,(콤마)와 .(점)은 출력하지 않아야 합니다.\n"
   ]
  },
  {
   "cell_type": "code",
   "execution_count": 20,
   "metadata": {},
   "outputs": [
    {
     "name": "stdout",
     "output_type": "stream",
     "text": [
      "dictator\n",
      "subjects\n",
      "change\n",
      "costume\n",
      "elegance\n",
      "accepted\n"
     ]
    }
   ],
   "source": [
    "with open('words.txt', 'r') as file:\n",
    "    contents = file.read()\n",
    "    clean_contents = contents.replace(',','').replace('.','')\n",
    "    words = clean_contents.split()\n",
    "    for word in words:\n",
    "        if 'c' in word:       # 'c'가 포함된 단어만 출력\n",
    "            print(word)"
   ]
  },
  {
   "cell_type": "code",
   "execution_count": 24,
   "metadata": {},
   "outputs": [
    {
     "name": "stdout",
     "output_type": "stream",
     "text": [
      "dictator\n",
      "subjects,\n",
      "change\n",
      "costume.\n",
      "elegance.\n",
      "accepted\n"
     ]
    }
   ],
   "source": [
    "with open('words.txt', 'r') as file:\n",
    "    for line in file:\n",
    "        words = line.split()\n",
    "        for word in words:\n",
    "            if 'c' in word:       # 'c'가 포함된 단어만 출력\n",
    "                print(word)"
   ]
  },
  {
   "cell_type": "markdown",
   "metadata": {},
   "source": [
    "#### 27.5\n",
    "파일에서 10자 이하인 단어 개수 세기"
   ]
  },
  {
   "cell_type": "code",
   "execution_count": 14,
   "metadata": {},
   "outputs": [
    {
     "name": "stdout",
     "output_type": "stream",
     "text": [
      "4\n"
     ]
    }
   ],
   "source": [
    "with open('words.txt', 'r') as file:\n",
    "    count = 0\n",
    "    words = file.readlines()\n",
    "    for word in words:\n",
    "        if len(word.strip('\\n')) <= 10:\n",
    "         count += 1\n",
    "    print(count)\n",
    "         "
   ]
  },
  {
   "attachments": {},
   "cell_type": "markdown",
   "metadata": {},
   "source": [
    "#### 38.6\n",
    "\n",
    "표준 입력으로 문자열이 입력됩니다. 다음 소스 코드를 완성하여 입력된 문자열이 회문이면 문자열을 그대로 출력하고, 회문이 아니면 '회문이 아닙니다.'를 출력하도록 만드세요. palindrome 함수와 NotPalindromeError 예외를 작성해야 합니다."
   ]
  },
  {
   "cell_type": "code",
   "execution_count": 3,
   "metadata": {},
   "outputs": [
    {
     "name": "stdout",
     "output_type": "stream",
     "text": [
      "회문이 아닙니다.\n"
     ]
    }
   ],
   "source": [
    "class NotPalindromeError(Exception):\n",
    "    def __init__(self, message=\"회문이 아닙니다.\"):\n",
    "        self.message = message\n",
    "        super().__init__(self.message)\n",
    "\n",
    "def palindrome(word):\n",
    "    if word != word[::-1]:\n",
    "        raise NotPalindromeError\n",
    "    else:\n",
    "        print(word)\n",
    "\n",
    "try:\n",
    "    word = input()\n",
    "    palindrome(word)\n",
    "except NotPalindromeError as e:\n",
    "    print(e)\n"
   ]
  },
  {
   "cell_type": "code",
   "execution_count": null,
   "metadata": {},
   "outputs": [],
   "source": []
  }
 ],
 "metadata": {
  "kernelspec": {
   "display_name": "base",
   "language": "python",
   "name": "python3"
  },
  "language_info": {
   "codemirror_mode": {
    "name": "ipython",
    "version": 3
   },
   "file_extension": ".py",
   "mimetype": "text/x-python",
   "name": "python",
   "nbconvert_exporter": "python",
   "pygments_lexer": "ipython3",
   "version": "3.10.10"
  },
  "orig_nbformat": 4
 },
 "nbformat": 4,
 "nbformat_minor": 2
}
